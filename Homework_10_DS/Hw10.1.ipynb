{
  "cells": [
    {
      "cell_type": "code",
      "execution_count": 4,
      "metadata": {
        "id": "lq1NtBybtlqx"
      },
      "outputs": [],
      "source": [
        "import numpy as np\n",
        "import tensorflow as tf\n",
        "from tensorflow import keras\n",
        "from keras.models import Sequential\n",
        "from keras.layers import Conv2D, MaxPooling2D, Flatten, Dense, Dropout\n",
        "from keras.preprocessing.image import ImageDataGenerator\n",
        "from keras.optimizers import Adam"
      ]
    },
    {
      "cell_type": "markdown",
      "metadata": {
        "id": "GjwjB2XZt6mw"
      },
      "source": [
        "# Завантаження датасету Fashion MNIST"
      ]
    },
    {
      "cell_type": "code",
      "execution_count": 5,
      "metadata": {
        "id": "kZ4FccBrt-53",
        "colab": {
          "base_uri": "https://localhost:8080/"
        },
        "outputId": "0c5ab6a1-49f0-4689-827d-c3e9411546db"
      },
      "outputs": [
        {
          "output_type": "stream",
          "name": "stdout",
          "text": [
            "Downloading data from https://storage.googleapis.com/tensorflow/tf-keras-datasets/train-labels-idx1-ubyte.gz\n",
            "29515/29515 [==============================] - 0s 0us/step\n",
            "Downloading data from https://storage.googleapis.com/tensorflow/tf-keras-datasets/train-images-idx3-ubyte.gz\n",
            "26421880/26421880 [==============================] - 1s 0us/step\n",
            "Downloading data from https://storage.googleapis.com/tensorflow/tf-keras-datasets/t10k-labels-idx1-ubyte.gz\n",
            "5148/5148 [==============================] - 0s 0us/step\n",
            "Downloading data from https://storage.googleapis.com/tensorflow/tf-keras-datasets/t10k-images-idx3-ubyte.gz\n",
            "4422102/4422102 [==============================] - 1s 0us/step\n"
          ]
        }
      ],
      "source": [
        "fashion_mnist = keras.datasets.fashion_mnist\n",
        "(train_images, train_labels), (test_images, test_labels) = fashion_mnist.load_data()"
      ]
    },
    {
      "cell_type": "markdown",
      "metadata": {
        "id": "PbU78Y2huLB9"
      },
      "source": [
        "# Нормалізація значень пікселів у діапазоні [0, 1]"
      ]
    },
    {
      "cell_type": "code",
      "execution_count": 6,
      "metadata": {
        "id": "CZt3AG0MuJ10"
      },
      "outputs": [],
      "source": [
        "train_images = train_images / 255.0\n",
        "test_images = test_images / 255.0"
      ]
    },
    {
      "cell_type": "markdown",
      "metadata": {
        "id": "QcDMZvXJuPtS"
      },
      "source": [
        "# Розширення розмірності зображень для врахування каналів кольору"
      ]
    },
    {
      "cell_type": "code",
      "execution_count": 7,
      "metadata": {
        "id": "mjjZfcEPuS8X"
      },
      "outputs": [],
      "source": [
        "train_images = np.expand_dims(train_images, axis=-1)\n",
        "test_images = np.expand_dims(test_images, axis=-1)"
      ]
    },
    {
      "cell_type": "markdown",
      "metadata": {
        "id": "_EDL95xKucsJ"
      },
      "source": [
        "# Будуємо модель"
      ]
    },
    {
      "cell_type": "code",
      "execution_count": 8,
      "metadata": {
        "id": "BqA4swVQukDs"
      },
      "outputs": [],
      "source": [
        "model = Sequential()\n",
        "\n",
        "model.add(Conv2D(32, (3, 3), activation='relu', input_shape=(28, 28, 1)))\n",
        "model.add(MaxPooling2D((2, 2)))\n",
        "model.add(Dropout(0.25))\n",
        "model.add(Conv2D(64, (3, 3), activation='relu'))\n",
        "model.add(MaxPooling2D((2, 2)))\n",
        "model.add(Dropout(0.25))\n",
        "model.add(Flatten())\n",
        "model.add(Dense(512, activation='relu'))\n",
        "model.add(Dropout(0.25))\n",
        "model.add(Dense(10, activation='softmax'))"
      ]
    },
    {
      "cell_type": "markdown",
      "metadata": {
        "id": "fTljydwqu1Y4"
      },
      "source": [
        "# Компіляція моделі"
      ]
    },
    {
      "cell_type": "code",
      "execution_count": 9,
      "metadata": {
        "id": "CzKOtwWju5GI"
      },
      "outputs": [],
      "source": [
        "optimizer = Adam(learning_rate=0.001)\n",
        "\n",
        "model.compile(optimizer=optimizer,\n",
        "              loss='sparse_categorical_crossentropy',\n",
        "              metrics=['accuracy'])"
      ]
    },
    {
      "cell_type": "markdown",
      "metadata": {
        "id": "GpZJS7MC0t7O"
      },
      "source": [
        "# Аугментація даних"
      ]
    },
    {
      "cell_type": "code",
      "execution_count": 10,
      "metadata": {
        "id": "Kt5MP73I0weL"
      },
      "outputs": [],
      "source": [
        "datagen = ImageDataGenerator(\n",
        "    rotation_range=10,\n",
        "    width_shift_range=0.1,\n",
        "    height_shift_range=0.1,\n",
        "    zoom_range=0.1,\n",
        ")"
      ]
    },
    {
      "cell_type": "markdown",
      "metadata": {
        "id": "QayHJ_cmvAqa"
      },
      "source": [
        "# Навчання моделі"
      ]
    },
    {
      "cell_type": "code",
      "execution_count": 11,
      "metadata": {
        "colab": {
          "base_uri": "https://localhost:8080/"
        },
        "id": "JFHw-pwtvEM8",
        "outputId": "bdee1df2-0176-4d2d-e004-f01a20da6ff1"
      },
      "outputs": [
        {
          "output_type": "stream",
          "name": "stdout",
          "text": [
            "Epoch 1/30\n",
            "235/235 [==============================] - 67s 281ms/step - loss: 0.6491 - accuracy: 0.7616 - val_loss: 0.4427 - val_accuracy: 0.8438\n",
            "Epoch 2/30\n",
            "235/235 [==============================] - 70s 296ms/step - loss: 0.4128 - accuracy: 0.8497 - val_loss: 0.3586 - val_accuracy: 0.8713\n",
            "Epoch 3/30\n",
            "235/235 [==============================] - 67s 286ms/step - loss: 0.3572 - accuracy: 0.8688 - val_loss: 0.3176 - val_accuracy: 0.8856\n",
            "Epoch 4/30\n",
            "235/235 [==============================] - 67s 286ms/step - loss: 0.3212 - accuracy: 0.8805 - val_loss: 0.3168 - val_accuracy: 0.8845\n",
            "Epoch 5/30\n",
            "235/235 [==============================] - 67s 286ms/step - loss: 0.2964 - accuracy: 0.8896 - val_loss: 0.2995 - val_accuracy: 0.8927\n",
            "Epoch 6/30\n",
            "235/235 [==============================] - 67s 285ms/step - loss: 0.2810 - accuracy: 0.8964 - val_loss: 0.2764 - val_accuracy: 0.9003\n",
            "Epoch 7/30\n",
            "235/235 [==============================] - 67s 285ms/step - loss: 0.2670 - accuracy: 0.9008 - val_loss: 0.2627 - val_accuracy: 0.9034\n",
            "Epoch 8/30\n",
            "235/235 [==============================] - 70s 296ms/step - loss: 0.2552 - accuracy: 0.9048 - val_loss: 0.2727 - val_accuracy: 0.8970\n",
            "Epoch 9/30\n",
            "235/235 [==============================] - 68s 289ms/step - loss: 0.2450 - accuracy: 0.9079 - val_loss: 0.2509 - val_accuracy: 0.9077\n",
            "Epoch 10/30\n",
            "235/235 [==============================] - 67s 286ms/step - loss: 0.2322 - accuracy: 0.9135 - val_loss: 0.2447 - val_accuracy: 0.9094\n",
            "Epoch 11/30\n",
            "235/235 [==============================] - 67s 284ms/step - loss: 0.2250 - accuracy: 0.9162 - val_loss: 0.2356 - val_accuracy: 0.9135\n",
            "Epoch 12/30\n",
            "235/235 [==============================] - 67s 284ms/step - loss: 0.2188 - accuracy: 0.9179 - val_loss: 0.2358 - val_accuracy: 0.9126\n",
            "Epoch 13/30\n",
            "235/235 [==============================] - 69s 293ms/step - loss: 0.2095 - accuracy: 0.9223 - val_loss: 0.2297 - val_accuracy: 0.9181\n",
            "Epoch 14/30\n",
            "235/235 [==============================] - 68s 288ms/step - loss: 0.2041 - accuracy: 0.9246 - val_loss: 0.2248 - val_accuracy: 0.9165\n",
            "Epoch 15/30\n",
            "235/235 [==============================] - 66s 282ms/step - loss: 0.1963 - accuracy: 0.9268 - val_loss: 0.2249 - val_accuracy: 0.9157\n",
            "Epoch 16/30\n",
            "235/235 [==============================] - 67s 285ms/step - loss: 0.1919 - accuracy: 0.9281 - val_loss: 0.2272 - val_accuracy: 0.9147\n",
            "Epoch 17/30\n",
            "235/235 [==============================] - 68s 287ms/step - loss: 0.1840 - accuracy: 0.9317 - val_loss: 0.2233 - val_accuracy: 0.9191\n",
            "Epoch 18/30\n",
            "235/235 [==============================] - 69s 292ms/step - loss: 0.1767 - accuracy: 0.9333 - val_loss: 0.2214 - val_accuracy: 0.9182\n",
            "Epoch 19/30\n",
            "235/235 [==============================] - 67s 286ms/step - loss: 0.1679 - accuracy: 0.9370 - val_loss: 0.2184 - val_accuracy: 0.9209\n",
            "Epoch 20/30\n",
            "235/235 [==============================] - 66s 282ms/step - loss: 0.1674 - accuracy: 0.9369 - val_loss: 0.2151 - val_accuracy: 0.9237\n",
            "Epoch 21/30\n",
            "235/235 [==============================] - 66s 283ms/step - loss: 0.1605 - accuracy: 0.9393 - val_loss: 0.2224 - val_accuracy: 0.9233\n",
            "Epoch 22/30\n",
            "235/235 [==============================] - 68s 290ms/step - loss: 0.1598 - accuracy: 0.9398 - val_loss: 0.2155 - val_accuracy: 0.9213\n",
            "Epoch 23/30\n",
            "235/235 [==============================] - 68s 289ms/step - loss: 0.1512 - accuracy: 0.9429 - val_loss: 0.2270 - val_accuracy: 0.9199\n",
            "Epoch 24/30\n",
            "235/235 [==============================] - 68s 292ms/step - loss: 0.1484 - accuracy: 0.9426 - val_loss: 0.2146 - val_accuracy: 0.9244\n",
            "Epoch 25/30\n",
            "235/235 [==============================] - 68s 287ms/step - loss: 0.1433 - accuracy: 0.9457 - val_loss: 0.2206 - val_accuracy: 0.9229\n",
            "Epoch 26/30\n",
            "235/235 [==============================] - 67s 287ms/step - loss: 0.1393 - accuracy: 0.9474 - val_loss: 0.2271 - val_accuracy: 0.9212\n",
            "Epoch 27/30\n",
            "235/235 [==============================] - 67s 287ms/step - loss: 0.1358 - accuracy: 0.9490 - val_loss: 0.2220 - val_accuracy: 0.9226\n",
            "Epoch 28/30\n",
            "235/235 [==============================] - 67s 285ms/step - loss: 0.1313 - accuracy: 0.9496 - val_loss: 0.2282 - val_accuracy: 0.9205\n",
            "Epoch 29/30\n",
            "235/235 [==============================] - 66s 283ms/step - loss: 0.1267 - accuracy: 0.9520 - val_loss: 0.2295 - val_accuracy: 0.9221\n",
            "Epoch 30/30\n",
            "235/235 [==============================] - 67s 286ms/step - loss: 0.1251 - accuracy: 0.9525 - val_loss: 0.2245 - val_accuracy: 0.9241\n"
          ]
        }
      ],
      "source": [
        "batch_size = 256\n",
        "epochs = 30\n",
        "\n",
        "history = model.fit(train_images, train_labels,\n",
        "          batch_size=batch_size,\n",
        "          epochs=epochs,\n",
        "          verbose=1,\n",
        "          validation_data=(test_images, test_labels))"
      ]
    },
    {
      "cell_type": "markdown",
      "metadata": {
        "id": "RMWC9aopvVUH"
      },
      "source": [
        "# Оцінка точності моделі"
      ]
    },
    {
      "cell_type": "code",
      "execution_count": 12,
      "metadata": {
        "colab": {
          "base_uri": "https://localhost:8080/"
        },
        "id": "1iHv39EVvadJ",
        "outputId": "5067b269-70ab-49a4-8b9d-9949ef1984e8"
      },
      "outputs": [
        {
          "output_type": "stream",
          "name": "stdout",
          "text": [
            "313/313 [==============================] - 3s 10ms/step - loss: 0.2245 - accuracy: 0.9241\n",
            "Точність на тестових даних: 92.41%\n"
          ]
        }
      ],
      "source": [
        "test_loss, test_acc = model.evaluate(test_images, test_labels)\n",
        "print(f'Точність на тестових даних: {test_acc * 100:.2f}%')\n"
      ]
    },
    {
      "cell_type": "markdown",
      "source": [
        "ВИСНОВКИ:\n",
        "Згорткова мережа досягла більшої точносту за меньшиу кількість епох. Хоча часу на тренування було витрачено більше"
      ],
      "metadata": {
        "id": "E48gw67RqYh-"
      }
    }
  ],
  "metadata": {
    "colab": {
      "provenance": []
    },
    "kernelspec": {
      "display_name": "Python 3",
      "name": "python3"
    },
    "language_info": {
      "name": "python"
    }
  },
  "nbformat": 4,
  "nbformat_minor": 0
}