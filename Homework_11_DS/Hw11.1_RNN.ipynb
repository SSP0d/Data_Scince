{
  "nbformat": 4,
  "nbformat_minor": 0,
  "metadata": {
    "colab": {
      "provenance": []
    },
    "kernelspec": {
      "name": "python3",
      "display_name": "Python 3"
    },
    "language_info": {
      "name": "python"
    }
  },
  "cells": [
    {
      "cell_type": "markdown",
      "source": [
        "# Імпорти"
      ],
      "metadata": {
        "id": "DzhoBao1tIS4"
      }
    },
    {
      "cell_type": "code",
      "source": [
        "from keras.datasets import imdb\n",
        "from keras.utils import pad_sequences\n",
        "from keras.models import Sequential\n",
        "from keras.layers import Embedding, SimpleRNN, Dense, Dropout"
      ],
      "metadata": {
        "id": "zZ3ldhCNtOWX"
      },
      "execution_count": 66,
      "outputs": []
    },
    {
      "cell_type": "markdown",
      "source": [
        "# Задаємо гіперпараметри моделі"
      ],
      "metadata": {
        "id": "cUAB0W0StUeg"
      }
    },
    {
      "cell_type": "code",
      "source": [
        "max_features = 10000  # Кількість слів, що використовуються для векторизації\n",
        "maxlen = 200  # Максимальна довжина рецензії (обрізаємо або доповнюємо до цієї довжини)"
      ],
      "metadata": {
        "id": "tfuTna41tV8q"
      },
      "execution_count": 67,
      "outputs": []
    },
    {
      "cell_type": "markdown",
      "source": [
        "# Завантаження даних"
      ],
      "metadata": {
        "id": "JE5iSQvxtdTL"
      }
    },
    {
      "cell_type": "code",
      "source": [
        "(x_train, y_train), (x_test, y_test) = imdb.load_data(num_words=max_features)"
      ],
      "metadata": {
        "id": "ORBpHDuLtfs2"
      },
      "execution_count": 68,
      "outputs": []
    },
    {
      "cell_type": "markdown",
      "source": [
        "# Попередня обробка даних"
      ],
      "metadata": {
        "id": "2UUsZKjQtikd"
      }
    },
    {
      "cell_type": "code",
      "source": [
        "x_train = pad_sequences(x_train, maxlen=maxlen)\n",
        "x_test = pad_sequences(x_test, maxlen=maxlen)"
      ],
      "metadata": {
        "id": "4YjAnjeItlsl"
      },
      "execution_count": 69,
      "outputs": []
    },
    {
      "cell_type": "markdown",
      "source": [
        "# Побудова моделі"
      ],
      "metadata": {
        "id": "NfuWGXjqtoBd"
      }
    },
    {
      "cell_type": "code",
      "source": [
        "model = Sequential()\n",
        "model.add(Embedding(max_features, 128, input_length=maxlen))\n",
        "#model.add(SimpleRNN(64, return_sequences=True))  # Додано параметр return_sequences=True\n",
        "model.add(SimpleRNN(64))  # Додано другий SimpleRNN шар\n",
        "model.add(Dropout(0.5))\n",
        "model.add(Dense(1, activation='sigmoid'))"
      ],
      "metadata": {
        "id": "gm1CUQW_trnD"
      },
      "execution_count": 70,
      "outputs": []
    },
    {
      "cell_type": "markdown",
      "source": [
        "# Компіляція моделі"
      ],
      "metadata": {
        "id": "ho7R7at3ty-0"
      }
    },
    {
      "cell_type": "code",
      "source": [
        "model.compile(\n",
        "    loss='binary_crossentropy',\n",
        "    optimizer='adam',\n",
        "    metrics=['accuracy']\n",
        "    )"
      ],
      "metadata": {
        "id": "MfLcrAVIt013"
      },
      "execution_count": 71,
      "outputs": []
    },
    {
      "cell_type": "markdown",
      "source": [
        "# Виведення опису моделі"
      ],
      "metadata": {
        "id": "cZvwEk0exdw5"
      }
    },
    {
      "cell_type": "code",
      "source": [
        "model.summary()"
      ],
      "metadata": {
        "colab": {
          "base_uri": "https://localhost:8080/"
        },
        "id": "N69i6S6Dxj23",
        "outputId": "bc439697-fe4f-412d-9ada-0b211ad0189d"
      },
      "execution_count": 72,
      "outputs": [
        {
          "output_type": "stream",
          "name": "stdout",
          "text": [
            "Model: \"sequential_7\"\n",
            "_________________________________________________________________\n",
            " Layer (type)                Output Shape              Param #   \n",
            "=================================================================\n",
            " embedding_7 (Embedding)     (None, 200, 128)          1280000   \n",
            "                                                                 \n",
            " simple_rnn_8 (SimpleRNN)    (None, 64)                12352     \n",
            "                                                                 \n",
            " dropout_2 (Dropout)         (None, 64)                0         \n",
            "                                                                 \n",
            " dense_6 (Dense)             (None, 1)                 65        \n",
            "                                                                 \n",
            "=================================================================\n",
            "Total params: 1,292,417\n",
            "Trainable params: 1,292,417\n",
            "Non-trainable params: 0\n",
            "_________________________________________________________________\n"
          ]
        }
      ]
    },
    {
      "cell_type": "markdown",
      "source": [
        "# Навчання моделі"
      ],
      "metadata": {
        "id": "4LKwoDKNt8pW"
      }
    },
    {
      "cell_type": "code",
      "source": [
        "batch_size = 32\n",
        "epochs = 5\n",
        "\n",
        "model.fit(\n",
        "    x_train,\n",
        "    y_train,\n",
        "    batch_size=batch_size,\n",
        "    epochs=epochs,\n",
        "    validation_data=(x_test, y_test)\n",
        "    )"
      ],
      "metadata": {
        "colab": {
          "base_uri": "https://localhost:8080/"
        },
        "id": "qB_lY4fft_FD",
        "outputId": "03f329fc-29b7-46fc-b87e-42eba9e3a78f"
      },
      "execution_count": 73,
      "outputs": [
        {
          "output_type": "stream",
          "name": "stdout",
          "text": [
            "Epoch 1/5\n",
            "782/782 [==============================] - 88s 111ms/step - loss: 0.6668 - accuracy: 0.6006 - val_loss: 0.5414 - val_accuracy: 0.7249\n",
            "Epoch 2/5\n",
            "782/782 [==============================] - 94s 120ms/step - loss: 0.5179 - accuracy: 0.7482 - val_loss: 0.6234 - val_accuracy: 0.6392\n",
            "Epoch 3/5\n",
            "782/782 [==============================] - 93s 119ms/step - loss: 0.4758 - accuracy: 0.7795 - val_loss: 0.4873 - val_accuracy: 0.7876\n",
            "Epoch 4/5\n",
            "782/782 [==============================] - 88s 113ms/step - loss: 0.4494 - accuracy: 0.7953 - val_loss: 0.6080 - val_accuracy: 0.6750\n",
            "Epoch 5/5\n",
            "782/782 [==============================] - 90s 115ms/step - loss: 0.3991 - accuracy: 0.8290 - val_loss: 0.6005 - val_accuracy: 0.7178\n"
          ]
        },
        {
          "output_type": "execute_result",
          "data": {
            "text/plain": [
              "<keras.callbacks.History at 0x7f674f8bfd30>"
            ]
          },
          "metadata": {},
          "execution_count": 73
        }
      ]
    },
    {
      "cell_type": "markdown",
      "source": [
        "# Оцінка результатів тренування"
      ],
      "metadata": {
        "id": "aZ1nazYGuRd6"
      }
    },
    {
      "cell_type": "code",
      "execution_count": 74,
      "metadata": {
        "colab": {
          "base_uri": "https://localhost:8080/"
        },
        "id": "ksA_O6les8y8",
        "outputId": "e82c99c8-ce88-46fa-eb30-27a17723edd1"
      },
      "outputs": [
        {
          "output_type": "stream",
          "name": "stdout",
          "text": [
            "782/782 [==============================] - 16s 20ms/step - loss: 0.6005 - accuracy: 0.7178\n",
            "Loss: 0.6005\n",
            "Accuracy: 71.78%\n"
          ]
        }
      ],
      "source": [
        "loss, accuracy = model.evaluate(x_test, y_test)\n",
        "print(f'Loss: {loss:.4f}')\n",
        "print(f'Accuracy: {accuracy*100:.2f}%')"
      ]
    }
  ]
}