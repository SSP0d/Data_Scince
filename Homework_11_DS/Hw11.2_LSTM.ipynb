{
  "nbformat": 4,
  "nbformat_minor": 0,
  "metadata": {
    "colab": {
      "provenance": []
    },
    "kernelspec": {
      "name": "python3",
      "display_name": "Python 3"
    },
    "language_info": {
      "name": "python"
    }
  },
  "cells": [
    {
      "cell_type": "markdown",
      "source": [
        "# Імпорти"
      ],
      "metadata": {
        "id": "DzhoBao1tIS4"
      }
    },
    {
      "cell_type": "code",
      "source": [
        "from keras.datasets import imdb\n",
        "from keras.utils import pad_sequences\n",
        "from keras.models import Sequential\n",
        "from keras.layers import Embedding, LSTM, Dense, Bidirectional, Dropout"
      ],
      "metadata": {
        "id": "zZ3ldhCNtOWX"
      },
      "execution_count": 2,
      "outputs": []
    },
    {
      "cell_type": "markdown",
      "source": [
        "# Задаємо гіперпараметри моделі"
      ],
      "metadata": {
        "id": "cUAB0W0StUeg"
      }
    },
    {
      "cell_type": "code",
      "source": [
        "max_features = 10000  # Кількість слів, що використовуються для векторизації\n",
        "maxlen = 200  # Максимальна довжина рецензії (обрізаємо або доповнюємо до цієї довжини)"
      ],
      "metadata": {
        "id": "tfuTna41tV8q"
      },
      "execution_count": 3,
      "outputs": []
    },
    {
      "cell_type": "markdown",
      "source": [
        "# Завантаження даних"
      ],
      "metadata": {
        "id": "JE5iSQvxtdTL"
      }
    },
    {
      "cell_type": "code",
      "source": [
        "(x_train, y_train), (x_test, y_test) = imdb.load_data(num_words=max_features)"
      ],
      "metadata": {
        "colab": {
          "base_uri": "https://localhost:8080/"
        },
        "id": "ORBpHDuLtfs2",
        "outputId": "c597a0c3-d0d9-4224-c45e-c94ee24c3a2c"
      },
      "execution_count": 4,
      "outputs": [
        {
          "output_type": "stream",
          "name": "stdout",
          "text": [
            "Downloading data from https://storage.googleapis.com/tensorflow/tf-keras-datasets/imdb.npz\n",
            "17464789/17464789 [==============================] - 0s 0us/step\n"
          ]
        }
      ]
    },
    {
      "cell_type": "markdown",
      "source": [
        "# Попередня обробка даних"
      ],
      "metadata": {
        "id": "2UUsZKjQtikd"
      }
    },
    {
      "cell_type": "code",
      "source": [
        "x_train = pad_sequences(x_train, maxlen=maxlen)\n",
        "x_test = pad_sequences(x_test, maxlen=maxlen)"
      ],
      "metadata": {
        "id": "4YjAnjeItlsl"
      },
      "execution_count": 5,
      "outputs": []
    },
    {
      "cell_type": "markdown",
      "source": [
        "# Побудова моделі"
      ],
      "metadata": {
        "id": "NfuWGXjqtoBd"
      }
    },
    {
      "cell_type": "code",
      "source": [
        "model = Sequential()\n",
        "model.add(Embedding(max_features, 128, input_length=maxlen))\n",
        "model.add(Bidirectional(LSTM(64))) # Двосторонній LSTM шар з 64 нейронами\n",
        "model.add(Dropout(0.5))\n",
        "model.add(Dense(1, activation='sigmoid'))"
      ],
      "metadata": {
        "id": "gm1CUQW_trnD"
      },
      "execution_count": 6,
      "outputs": []
    },
    {
      "cell_type": "markdown",
      "source": [
        "# Компіляція моделі"
      ],
      "metadata": {
        "id": "ho7R7at3ty-0"
      }
    },
    {
      "cell_type": "code",
      "source": [
        "model.compile(\n",
        "    loss='binary_crossentropy',\n",
        "    optimizer='rmsprop',\n",
        "    metrics=['accuracy']\n",
        "    )"
      ],
      "metadata": {
        "id": "MfLcrAVIt013"
      },
      "execution_count": 7,
      "outputs": []
    },
    {
      "cell_type": "markdown",
      "source": [
        "# Виведення опису моделі"
      ],
      "metadata": {
        "id": "cZvwEk0exdw5"
      }
    },
    {
      "cell_type": "code",
      "source": [
        "model.summary()"
      ],
      "metadata": {
        "colab": {
          "base_uri": "https://localhost:8080/"
        },
        "id": "N69i6S6Dxj23",
        "outputId": "2035152b-a25e-4e98-8aa6-69131adce5ce"
      },
      "execution_count": 8,
      "outputs": [
        {
          "output_type": "stream",
          "name": "stdout",
          "text": [
            "Model: \"sequential\"\n",
            "_________________________________________________________________\n",
            " Layer (type)                Output Shape              Param #   \n",
            "=================================================================\n",
            " embedding (Embedding)       (None, 200, 128)          1280000   \n",
            "                                                                 \n",
            " bidirectional (Bidirectiona  (None, 128)              98816     \n",
            " l)                                                              \n",
            "                                                                 \n",
            " dropout (Dropout)           (None, 128)               0         \n",
            "                                                                 \n",
            " dense (Dense)               (None, 1)                 129       \n",
            "                                                                 \n",
            "=================================================================\n",
            "Total params: 1,378,945\n",
            "Trainable params: 1,378,945\n",
            "Non-trainable params: 0\n",
            "_________________________________________________________________\n"
          ]
        }
      ]
    },
    {
      "cell_type": "markdown",
      "source": [
        "# Навчання моделі"
      ],
      "metadata": {
        "id": "4LKwoDKNt8pW"
      }
    },
    {
      "cell_type": "code",
      "source": [
        "batch_size = 32\n",
        "epochs = 5\n",
        "\n",
        "model.fit(\n",
        "    x_train,\n",
        "    y_train,\n",
        "    batch_size=batch_size,\n",
        "    epochs=epochs,\n",
        "    validation_data=(x_test, y_test)\n",
        "    )"
      ],
      "metadata": {
        "colab": {
          "base_uri": "https://localhost:8080/"
        },
        "id": "qB_lY4fft_FD",
        "outputId": "3375318e-363e-4d77-9cab-a16b7ba96bec"
      },
      "execution_count": 9,
      "outputs": [
        {
          "output_type": "stream",
          "name": "stdout",
          "text": [
            "Epoch 1/5\n",
            "782/782 [==============================] - 341s 431ms/step - loss: 0.4480 - accuracy: 0.7876 - val_loss: 0.3560 - val_accuracy: 0.8468\n",
            "Epoch 2/5\n",
            "782/782 [==============================] - 333s 426ms/step - loss: 0.3009 - accuracy: 0.8783 - val_loss: 0.3101 - val_accuracy: 0.8713\n",
            "Epoch 3/5\n",
            "782/782 [==============================] - 333s 426ms/step - loss: 0.2551 - accuracy: 0.9016 - val_loss: 0.3889 - val_accuracy: 0.8282\n",
            "Epoch 4/5\n",
            "782/782 [==============================] - 335s 429ms/step - loss: 0.2229 - accuracy: 0.9178 - val_loss: 0.5091 - val_accuracy: 0.8304\n",
            "Epoch 5/5\n",
            "782/782 [==============================] - 334s 428ms/step - loss: 0.1989 - accuracy: 0.9268 - val_loss: 0.3238 - val_accuracy: 0.8784\n"
          ]
        },
        {
          "output_type": "execute_result",
          "data": {
            "text/plain": [
              "<keras.callbacks.History at 0x7ff6e95b6980>"
            ]
          },
          "metadata": {},
          "execution_count": 9
        }
      ]
    },
    {
      "cell_type": "markdown",
      "source": [
        "# Оцінка результатів тренування"
      ],
      "metadata": {
        "id": "aZ1nazYGuRd6"
      }
    },
    {
      "cell_type": "code",
      "execution_count": 10,
      "metadata": {
        "colab": {
          "base_uri": "https://localhost:8080/"
        },
        "id": "ksA_O6les8y8",
        "outputId": "8cce75b6-ffef-4f82-c146-8cd4635fb2b9"
      },
      "outputs": [
        {
          "output_type": "stream",
          "name": "stdout",
          "text": [
            "782/782 [==============================] - 62s 79ms/step - loss: 0.3238 - accuracy: 0.8784\n",
            "Loss: 0.3238\n",
            "Accuracy: 87.84%\n"
          ]
        }
      ],
      "source": [
        "loss, accuracy = model.evaluate(x_test, y_test)\n",
        "print(f'Loss: {loss:.4f}')\n",
        "print(f'Accuracy: {accuracy*100:.2f}%')"
      ]
    },
    {
      "cell_type": "markdown",
      "source": [
        "# Висновки"
      ],
      "metadata": {
        "id": "K4I7kWR-pj1U"
      }
    },
    {
      "cell_type": "markdown",
      "source": [
        "Модель з SimpleRNN:\n",
        "\n",
        "Втрати після 5 епох: 0.3991\n",
        "Точність після 5 епох: 0.8290\n",
        "Втрати на валідації після 5 епох: 0.6005\n",
        "Точність на валідації після 5 епох: 0.7178\n",
        "Модель з LSTM:\n",
        "\n",
        "Втрати після 5 епох: 0.1989\n",
        "Точність після 5 епох: 0.9268\n",
        "Втрати на валідації після 5 епох: 0.3238\n",
        "Точність на валідації після 5 епох: 0.8784\n",
        "\n",
        "Модель зі шаром LSTM показує значно кращі результати порівняно з моделлю зі шаром SimpleRNN. Маючи нижчі втрати та вищу точність як на тренувальних, так і на валідаційних даних, LSTM модель демонструє кращу здатність вивчати довготривалі залежності в послідовностях та робити більш точні прогнози. LSTM має внутрішні стани та ворота, що дозволяють зберігати та забувати інформацію залежно від потреб моделі, що робить його більш потужним та гнучким для моделювання послідовностей.\n",
        "\n",
        "\n",
        "\n",
        "\n",
        "\n",
        "\n"
      ],
      "metadata": {
        "id": "p9bivOfspno-"
      }
    }
  ]
}