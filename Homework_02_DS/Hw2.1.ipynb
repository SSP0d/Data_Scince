{
  "nbformat": 4,
  "nbformat_minor": 0,
  "metadata": {
    "colab": {
      "provenance": [],
      "collapsed_sections": [
        "n2lFynAhbwCS",
        "gLvJgI1fcXsb"
      ]
    },
    "kernelspec": {
      "name": "python3",
      "display_name": "Python 3"
    },
    "language_info": {
      "name": "python"
    }
  },
  "cells": [
    {
      "cell_type": "markdown",
      "source": [
        "# Частина перша: Знайомство з Pandas"
      ],
      "metadata": {
        "id": "bxreFemvVo5w"
      }
    },
    {
      "cell_type": "markdown",
      "source": [
        "# Зчитуємо дані з вікіпедії"
      ],
      "metadata": {
        "id": "AAs94dQNe0Aa"
      }
    },
    {
      "cell_type": "code",
      "execution_count": 2,
      "metadata": {
        "id": "FhTbQBe8VS4P"
      },
      "outputs": [],
      "source": [
        "%matplotlib inline\n",
        "import pandas as pd\n",
        "import numpy as np\n",
        "import matplotlib.pyplot as plt\n",
        "\n",
        "\n",
        "url ='https://uk.wikipedia.org/wiki/%D0%9D%D0%B0%D1%81%D0%B5%D0%BB%D0%B5%D0%BD%D0%BD%D1%8F_%D0%A3%D0%BA%D1%80%D0%B0%D1%97%D0%BD%D0%B8#%D0%9D%D0%B0%D1%80%D0%BE%D0%B4%D0%B6%D1%83%D0%B2%D0%B0%D0%BD%D1%96%D1%81%D1%82%D1%8C'\n",
        "df = pd.read_html(url, match='Коефіцієнт народжуваності в регіонах України')[0]"
      ]
    },
    {
      "cell_type": "markdown",
      "source": [
        "# Виводимо перші рядки таблиці"
      ],
      "metadata": {
        "id": "GLq5snw2bdpJ"
      }
    },
    {
      "cell_type": "code",
      "source": [
        "df.head()"
      ],
      "metadata": {
        "colab": {
          "base_uri": "https://localhost:8080/",
          "height": 206
        },
        "id": "PyaKg1cwbcMN",
        "outputId": "5906798b-a3ea-429a-c8e7-fbdb57fd7fd1"
      },
      "execution_count": 3,
      "outputs": [
        {
          "output_type": "execute_result",
          "data": {
            "text/plain": [
              "             Регіон   1950   1960   1970  1990  2000  2012 2014 2019\n",
              "0              Крим  230.0  206.0  160.0   130    73   126    —    —\n",
              "1         Вінницька  224.0  192.0  142.0   124    84   112  109   76\n",
              "2         Волинська  247.0  250.0  179.0   153   112   148  141  101\n",
              "3  Дніпропетровська  204.0  204.0  151.0   123    71   112  111   71\n",
              "4          Донецька  271.0  214.0  140.0   109    61    98   82    —"
            ],
            "text/html": [
              "\n",
              "  <div id=\"df-40eb3ae3-93a8-4524-b5cd-877954912cdd\">\n",
              "    <div class=\"colab-df-container\">\n",
              "      <div>\n",
              "<style scoped>\n",
              "    .dataframe tbody tr th:only-of-type {\n",
              "        vertical-align: middle;\n",
              "    }\n",
              "\n",
              "    .dataframe tbody tr th {\n",
              "        vertical-align: top;\n",
              "    }\n",
              "\n",
              "    .dataframe thead th {\n",
              "        text-align: right;\n",
              "    }\n",
              "</style>\n",
              "<table border=\"1\" class=\"dataframe\">\n",
              "  <thead>\n",
              "    <tr style=\"text-align: right;\">\n",
              "      <th></th>\n",
              "      <th>Регіон</th>\n",
              "      <th>1950</th>\n",
              "      <th>1960</th>\n",
              "      <th>1970</th>\n",
              "      <th>1990</th>\n",
              "      <th>2000</th>\n",
              "      <th>2012</th>\n",
              "      <th>2014</th>\n",
              "      <th>2019</th>\n",
              "    </tr>\n",
              "  </thead>\n",
              "  <tbody>\n",
              "    <tr>\n",
              "      <th>0</th>\n",
              "      <td>Крим</td>\n",
              "      <td>230.0</td>\n",
              "      <td>206.0</td>\n",
              "      <td>160.0</td>\n",
              "      <td>130</td>\n",
              "      <td>73</td>\n",
              "      <td>126</td>\n",
              "      <td>—</td>\n",
              "      <td>—</td>\n",
              "    </tr>\n",
              "    <tr>\n",
              "      <th>1</th>\n",
              "      <td>Вінницька</td>\n",
              "      <td>224.0</td>\n",
              "      <td>192.0</td>\n",
              "      <td>142.0</td>\n",
              "      <td>124</td>\n",
              "      <td>84</td>\n",
              "      <td>112</td>\n",
              "      <td>109</td>\n",
              "      <td>76</td>\n",
              "    </tr>\n",
              "    <tr>\n",
              "      <th>2</th>\n",
              "      <td>Волинська</td>\n",
              "      <td>247.0</td>\n",
              "      <td>250.0</td>\n",
              "      <td>179.0</td>\n",
              "      <td>153</td>\n",
              "      <td>112</td>\n",
              "      <td>148</td>\n",
              "      <td>141</td>\n",
              "      <td>101</td>\n",
              "    </tr>\n",
              "    <tr>\n",
              "      <th>3</th>\n",
              "      <td>Дніпропетровська</td>\n",
              "      <td>204.0</td>\n",
              "      <td>204.0</td>\n",
              "      <td>151.0</td>\n",
              "      <td>123</td>\n",
              "      <td>71</td>\n",
              "      <td>112</td>\n",
              "      <td>111</td>\n",
              "      <td>71</td>\n",
              "    </tr>\n",
              "    <tr>\n",
              "      <th>4</th>\n",
              "      <td>Донецька</td>\n",
              "      <td>271.0</td>\n",
              "      <td>214.0</td>\n",
              "      <td>140.0</td>\n",
              "      <td>109</td>\n",
              "      <td>61</td>\n",
              "      <td>98</td>\n",
              "      <td>82</td>\n",
              "      <td>—</td>\n",
              "    </tr>\n",
              "  </tbody>\n",
              "</table>\n",
              "</div>\n",
              "      <button class=\"colab-df-convert\" onclick=\"convertToInteractive('df-40eb3ae3-93a8-4524-b5cd-877954912cdd')\"\n",
              "              title=\"Convert this dataframe to an interactive table.\"\n",
              "              style=\"display:none;\">\n",
              "        \n",
              "  <svg xmlns=\"http://www.w3.org/2000/svg\" height=\"24px\"viewBox=\"0 0 24 24\"\n",
              "       width=\"24px\">\n",
              "    <path d=\"M0 0h24v24H0V0z\" fill=\"none\"/>\n",
              "    <path d=\"M18.56 5.44l.94 2.06.94-2.06 2.06-.94-2.06-.94-.94-2.06-.94 2.06-2.06.94zm-11 1L8.5 8.5l.94-2.06 2.06-.94-2.06-.94L8.5 2.5l-.94 2.06-2.06.94zm10 10l.94 2.06.94-2.06 2.06-.94-2.06-.94-.94-2.06-.94 2.06-2.06.94z\"/><path d=\"M17.41 7.96l-1.37-1.37c-.4-.4-.92-.59-1.43-.59-.52 0-1.04.2-1.43.59L10.3 9.45l-7.72 7.72c-.78.78-.78 2.05 0 2.83L4 21.41c.39.39.9.59 1.41.59.51 0 1.02-.2 1.41-.59l7.78-7.78 2.81-2.81c.8-.78.8-2.07 0-2.86zM5.41 20L4 18.59l7.72-7.72 1.47 1.35L5.41 20z\"/>\n",
              "  </svg>\n",
              "      </button>\n",
              "      \n",
              "  <style>\n",
              "    .colab-df-container {\n",
              "      display:flex;\n",
              "      flex-wrap:wrap;\n",
              "      gap: 12px;\n",
              "    }\n",
              "\n",
              "    .colab-df-convert {\n",
              "      background-color: #E8F0FE;\n",
              "      border: none;\n",
              "      border-radius: 50%;\n",
              "      cursor: pointer;\n",
              "      display: none;\n",
              "      fill: #1967D2;\n",
              "      height: 32px;\n",
              "      padding: 0 0 0 0;\n",
              "      width: 32px;\n",
              "    }\n",
              "\n",
              "    .colab-df-convert:hover {\n",
              "      background-color: #E2EBFA;\n",
              "      box-shadow: 0px 1px 2px rgba(60, 64, 67, 0.3), 0px 1px 3px 1px rgba(60, 64, 67, 0.15);\n",
              "      fill: #174EA6;\n",
              "    }\n",
              "\n",
              "    [theme=dark] .colab-df-convert {\n",
              "      background-color: #3B4455;\n",
              "      fill: #D2E3FC;\n",
              "    }\n",
              "\n",
              "    [theme=dark] .colab-df-convert:hover {\n",
              "      background-color: #434B5C;\n",
              "      box-shadow: 0px 1px 3px 1px rgba(0, 0, 0, 0.15);\n",
              "      filter: drop-shadow(0px 1px 2px rgba(0, 0, 0, 0.3));\n",
              "      fill: #FFFFFF;\n",
              "    }\n",
              "  </style>\n",
              "\n",
              "      <script>\n",
              "        const buttonEl =\n",
              "          document.querySelector('#df-40eb3ae3-93a8-4524-b5cd-877954912cdd button.colab-df-convert');\n",
              "        buttonEl.style.display =\n",
              "          google.colab.kernel.accessAllowed ? 'block' : 'none';\n",
              "\n",
              "        async function convertToInteractive(key) {\n",
              "          const element = document.querySelector('#df-40eb3ae3-93a8-4524-b5cd-877954912cdd');\n",
              "          const dataTable =\n",
              "            await google.colab.kernel.invokeFunction('convertToInteractive',\n",
              "                                                     [key], {});\n",
              "          if (!dataTable) return;\n",
              "\n",
              "          const docLinkHtml = 'Like what you see? Visit the ' +\n",
              "            '<a target=\"_blank\" href=https://colab.research.google.com/notebooks/data_table.ipynb>data table notebook</a>'\n",
              "            + ' to learn more about interactive tables.';\n",
              "          element.innerHTML = '';\n",
              "          dataTable['output_type'] = 'display_data';\n",
              "          await google.colab.output.renderOutput(dataTable, element);\n",
              "          const docLink = document.createElement('div');\n",
              "          docLink.innerHTML = docLinkHtml;\n",
              "          element.appendChild(docLink);\n",
              "        }\n",
              "      </script>\n",
              "    </div>\n",
              "  </div>\n",
              "  "
            ]
          },
          "metadata": {},
          "execution_count": 3
        }
      ]
    },
    {
      "cell_type": "markdown",
      "source": [
        "# Визначаємо кількість рядків та стовпців у датафреймі"
      ],
      "metadata": {
        "id": "n2lFynAhbwCS"
      }
    },
    {
      "cell_type": "code",
      "source": [
        "print(f\"Кількість рядків та стовпців: {df.shape}\")"
      ],
      "metadata": {
        "colab": {
          "base_uri": "https://localhost:8080/"
        },
        "id": "smP3BYLSbxOd",
        "outputId": "b28fad2c-c335-4dbe-ca7f-fa7bd9f07ed1"
      },
      "execution_count": 4,
      "outputs": [
        {
          "output_type": "stream",
          "name": "stdout",
          "text": [
            "Кількість рядків та стовпців: (28, 9)\n"
          ]
        }
      ]
    },
    {
      "cell_type": "markdown",
      "source": [
        "# Замінюємо у таблиці значення \"—\" на значення NaN"
      ],
      "metadata": {
        "id": "gLvJgI1fcXsb"
      }
    },
    {
      "cell_type": "code",
      "source": [
        "df = df.replace('—', np.nan, regex=True)\n",
        "\n",
        "df.head()"
      ],
      "metadata": {
        "colab": {
          "base_uri": "https://localhost:8080/",
          "height": 0
        },
        "id": "IFEzhEbzcZRs",
        "outputId": "6d4a907d-49bc-4202-a366-d5f9da78990f"
      },
      "execution_count": 5,
      "outputs": [
        {
          "output_type": "execute_result",
          "data": {
            "text/plain": [
              "             Регіон   1950   1960   1970  1990  2000  2012 2014 2019\n",
              "0              Крим  230.0  206.0  160.0   130    73   126  NaN  NaN\n",
              "1         Вінницька  224.0  192.0  142.0   124    84   112  109   76\n",
              "2         Волинська  247.0  250.0  179.0   153   112   148  141  101\n",
              "3  Дніпропетровська  204.0  204.0  151.0   123    71   112  111   71\n",
              "4          Донецька  271.0  214.0  140.0   109    61    98   82  NaN"
            ],
            "text/html": [
              "\n",
              "  <div id=\"df-0911c505-3ab2-4555-822a-29c0357c9098\">\n",
              "    <div class=\"colab-df-container\">\n",
              "      <div>\n",
              "<style scoped>\n",
              "    .dataframe tbody tr th:only-of-type {\n",
              "        vertical-align: middle;\n",
              "    }\n",
              "\n",
              "    .dataframe tbody tr th {\n",
              "        vertical-align: top;\n",
              "    }\n",
              "\n",
              "    .dataframe thead th {\n",
              "        text-align: right;\n",
              "    }\n",
              "</style>\n",
              "<table border=\"1\" class=\"dataframe\">\n",
              "  <thead>\n",
              "    <tr style=\"text-align: right;\">\n",
              "      <th></th>\n",
              "      <th>Регіон</th>\n",
              "      <th>1950</th>\n",
              "      <th>1960</th>\n",
              "      <th>1970</th>\n",
              "      <th>1990</th>\n",
              "      <th>2000</th>\n",
              "      <th>2012</th>\n",
              "      <th>2014</th>\n",
              "      <th>2019</th>\n",
              "    </tr>\n",
              "  </thead>\n",
              "  <tbody>\n",
              "    <tr>\n",
              "      <th>0</th>\n",
              "      <td>Крим</td>\n",
              "      <td>230.0</td>\n",
              "      <td>206.0</td>\n",
              "      <td>160.0</td>\n",
              "      <td>130</td>\n",
              "      <td>73</td>\n",
              "      <td>126</td>\n",
              "      <td>NaN</td>\n",
              "      <td>NaN</td>\n",
              "    </tr>\n",
              "    <tr>\n",
              "      <th>1</th>\n",
              "      <td>Вінницька</td>\n",
              "      <td>224.0</td>\n",
              "      <td>192.0</td>\n",
              "      <td>142.0</td>\n",
              "      <td>124</td>\n",
              "      <td>84</td>\n",
              "      <td>112</td>\n",
              "      <td>109</td>\n",
              "      <td>76</td>\n",
              "    </tr>\n",
              "    <tr>\n",
              "      <th>2</th>\n",
              "      <td>Волинська</td>\n",
              "      <td>247.0</td>\n",
              "      <td>250.0</td>\n",
              "      <td>179.0</td>\n",
              "      <td>153</td>\n",
              "      <td>112</td>\n",
              "      <td>148</td>\n",
              "      <td>141</td>\n",
              "      <td>101</td>\n",
              "    </tr>\n",
              "    <tr>\n",
              "      <th>3</th>\n",
              "      <td>Дніпропетровська</td>\n",
              "      <td>204.0</td>\n",
              "      <td>204.0</td>\n",
              "      <td>151.0</td>\n",
              "      <td>123</td>\n",
              "      <td>71</td>\n",
              "      <td>112</td>\n",
              "      <td>111</td>\n",
              "      <td>71</td>\n",
              "    </tr>\n",
              "    <tr>\n",
              "      <th>4</th>\n",
              "      <td>Донецька</td>\n",
              "      <td>271.0</td>\n",
              "      <td>214.0</td>\n",
              "      <td>140.0</td>\n",
              "      <td>109</td>\n",
              "      <td>61</td>\n",
              "      <td>98</td>\n",
              "      <td>82</td>\n",
              "      <td>NaN</td>\n",
              "    </tr>\n",
              "  </tbody>\n",
              "</table>\n",
              "</div>\n",
              "      <button class=\"colab-df-convert\" onclick=\"convertToInteractive('df-0911c505-3ab2-4555-822a-29c0357c9098')\"\n",
              "              title=\"Convert this dataframe to an interactive table.\"\n",
              "              style=\"display:none;\">\n",
              "        \n",
              "  <svg xmlns=\"http://www.w3.org/2000/svg\" height=\"24px\"viewBox=\"0 0 24 24\"\n",
              "       width=\"24px\">\n",
              "    <path d=\"M0 0h24v24H0V0z\" fill=\"none\"/>\n",
              "    <path d=\"M18.56 5.44l.94 2.06.94-2.06 2.06-.94-2.06-.94-.94-2.06-.94 2.06-2.06.94zm-11 1L8.5 8.5l.94-2.06 2.06-.94-2.06-.94L8.5 2.5l-.94 2.06-2.06.94zm10 10l.94 2.06.94-2.06 2.06-.94-2.06-.94-.94-2.06-.94 2.06-2.06.94z\"/><path d=\"M17.41 7.96l-1.37-1.37c-.4-.4-.92-.59-1.43-.59-.52 0-1.04.2-1.43.59L10.3 9.45l-7.72 7.72c-.78.78-.78 2.05 0 2.83L4 21.41c.39.39.9.59 1.41.59.51 0 1.02-.2 1.41-.59l7.78-7.78 2.81-2.81c.8-.78.8-2.07 0-2.86zM5.41 20L4 18.59l7.72-7.72 1.47 1.35L5.41 20z\"/>\n",
              "  </svg>\n",
              "      </button>\n",
              "      \n",
              "  <style>\n",
              "    .colab-df-container {\n",
              "      display:flex;\n",
              "      flex-wrap:wrap;\n",
              "      gap: 12px;\n",
              "    }\n",
              "\n",
              "    .colab-df-convert {\n",
              "      background-color: #E8F0FE;\n",
              "      border: none;\n",
              "      border-radius: 50%;\n",
              "      cursor: pointer;\n",
              "      display: none;\n",
              "      fill: #1967D2;\n",
              "      height: 32px;\n",
              "      padding: 0 0 0 0;\n",
              "      width: 32px;\n",
              "    }\n",
              "\n",
              "    .colab-df-convert:hover {\n",
              "      background-color: #E2EBFA;\n",
              "      box-shadow: 0px 1px 2px rgba(60, 64, 67, 0.3), 0px 1px 3px 1px rgba(60, 64, 67, 0.15);\n",
              "      fill: #174EA6;\n",
              "    }\n",
              "\n",
              "    [theme=dark] .colab-df-convert {\n",
              "      background-color: #3B4455;\n",
              "      fill: #D2E3FC;\n",
              "    }\n",
              "\n",
              "    [theme=dark] .colab-df-convert:hover {\n",
              "      background-color: #434B5C;\n",
              "      box-shadow: 0px 1px 3px 1px rgba(0, 0, 0, 0.15);\n",
              "      filter: drop-shadow(0px 1px 2px rgba(0, 0, 0, 0.3));\n",
              "      fill: #FFFFFF;\n",
              "    }\n",
              "  </style>\n",
              "\n",
              "      <script>\n",
              "        const buttonEl =\n",
              "          document.querySelector('#df-0911c505-3ab2-4555-822a-29c0357c9098 button.colab-df-convert');\n",
              "        buttonEl.style.display =\n",
              "          google.colab.kernel.accessAllowed ? 'block' : 'none';\n",
              "\n",
              "        async function convertToInteractive(key) {\n",
              "          const element = document.querySelector('#df-0911c505-3ab2-4555-822a-29c0357c9098');\n",
              "          const dataTable =\n",
              "            await google.colab.kernel.invokeFunction('convertToInteractive',\n",
              "                                                     [key], {});\n",
              "          if (!dataTable) return;\n",
              "\n",
              "          const docLinkHtml = 'Like what you see? Visit the ' +\n",
              "            '<a target=\"_blank\" href=https://colab.research.google.com/notebooks/data_table.ipynb>data table notebook</a>'\n",
              "            + ' to learn more about interactive tables.';\n",
              "          element.innerHTML = '';\n",
              "          dataTable['output_type'] = 'display_data';\n",
              "          await google.colab.output.renderOutput(dataTable, element);\n",
              "          const docLink = document.createElement('div');\n",
              "          docLink.innerHTML = docLinkHtml;\n",
              "          element.appendChild(docLink);\n",
              "        }\n",
              "      </script>\n",
              "    </div>\n",
              "  </div>\n",
              "  "
            ]
          },
          "metadata": {},
          "execution_count": 5
        }
      ]
    },
    {
      "cell_type": "markdown",
      "source": [
        "# Визначаємо типи всіх стовпців"
      ],
      "metadata": {
        "id": "-uIH1Kb0e-Oe"
      }
    },
    {
      "cell_type": "code",
      "source": [
        "df.dtypes"
      ],
      "metadata": {
        "colab": {
          "base_uri": "https://localhost:8080/"
        },
        "id": "3vdJbtv6fBUt",
        "outputId": "927d660a-55b6-4d46-e117-4a1df539a96d"
      },
      "execution_count": 6,
      "outputs": [
        {
          "output_type": "execute_result",
          "data": {
            "text/plain": [
              "Регіон     object\n",
              "1950      float64\n",
              "1960      float64\n",
              "1970      float64\n",
              "1990        int64\n",
              "2000        int64\n",
              "2012        int64\n",
              "2014       object\n",
              "2019       object\n",
              "dtype: object"
            ]
          },
          "metadata": {},
          "execution_count": 6
        }
      ]
    },
    {
      "cell_type": "markdown",
      "source": [
        "# Замінюємо типи нечислових колонок на числові"
      ],
      "metadata": {
        "id": "44Q6d7B0fTna"
      }
    },
    {
      "cell_type": "code",
      "source": [
        "df.iloc[:, 1:] = df.iloc[:, 1:].astype(float)\n",
        "df.dtypes"
      ],
      "metadata": {
        "colab": {
          "base_uri": "https://localhost:8080/"
        },
        "id": "3ipjO9tcfU5V",
        "outputId": "1a879f5f-0398-44bd-a028-c9b08280bd05"
      },
      "execution_count": 7,
      "outputs": [
        {
          "output_type": "stream",
          "name": "stderr",
          "text": [
            "<ipython-input-7-d3cd2bf872f4>:1: DeprecationWarning: In a future version, `df.iloc[:, i] = newvals` will attempt to set the values inplace instead of always setting a new array. To retain the old behavior, use either `df[df.columns[i]] = newvals` or, if columns are non-unique, `df.isetitem(i, newvals)`\n",
            "  df.iloc[:, 1:] = df.iloc[:, 1:].astype(float)\n"
          ]
        },
        {
          "output_type": "execute_result",
          "data": {
            "text/plain": [
              "Регіон     object\n",
              "1950      float64\n",
              "1960      float64\n",
              "1970      float64\n",
              "1990      float64\n",
              "2000      float64\n",
              "2012      float64\n",
              "2014      float64\n",
              "2019      float64\n",
              "dtype: object"
            ]
          },
          "metadata": {},
          "execution_count": 7
        }
      ]
    },
    {
      "cell_type": "markdown",
      "source": [
        "# Частка пропусків що міститься в кожній колонці"
      ],
      "metadata": {
        "id": "oDtOx-f_ABzr"
      }
    },
    {
      "cell_type": "code",
      "source": [
        "null_perc = df.isnull().sum() / len(df) * 100\n",
        "null_perc"
      ],
      "metadata": {
        "colab": {
          "base_uri": "https://localhost:8080/"
        },
        "id": "LNm3hah6AXWp",
        "outputId": "b64a2cb6-f209-491a-9171-9b8d28820253"
      },
      "execution_count": 8,
      "outputs": [
        {
          "output_type": "execute_result",
          "data": {
            "text/plain": [
              "Регіон     0.000000\n",
              "1950       7.142857\n",
              "1960       3.571429\n",
              "1970       3.571429\n",
              "1990       0.000000\n",
              "2000       0.000000\n",
              "2012       0.000000\n",
              "2014       7.142857\n",
              "2019      14.285714\n",
              "dtype: float64"
            ]
          },
          "metadata": {},
          "execution_count": 8
        }
      ]
    },
    {
      "cell_type": "markdown",
      "source": [
        "# Видаліяємо з таблиці останній рядок таблиці"
      ],
      "metadata": {
        "id": "pzDxMItKBAkT"
      }
    },
    {
      "cell_type": "code",
      "source": [
        "df.drop(df.index[-1], inplace=True)"
      ],
      "metadata": {
        "id": "gSjetx7ODgXM"
      },
      "execution_count": 9,
      "outputs": []
    },
    {
      "cell_type": "code",
      "source": [
        "df.tail()"
      ],
      "metadata": {
        "colab": {
          "base_uri": "https://localhost:8080/",
          "height": 206
        },
        "id": "naAR7uDoxMRJ",
        "outputId": "e145ccf3-8ca4-4da9-9e90-39133bc3e808"
      },
      "execution_count": 10,
      "outputs": [
        {
          "output_type": "execute_result",
          "data": {
            "text/plain": [
              "          Регіон   1950   1960   1970   1990   2000   2012   2014   2019\n",
              "22     Черкаська  205.0  179.0  144.0  123.0   75.0  100.0   98.0   64.0\n",
              "23   Чернівецька  247.0  218.0  170.0  148.0  101.0  128.0  129.0   92.0\n",
              "24  Чернігівська  220.0  183.0  127.0  108.0   69.0   94.0   90.0   61.0\n",
              "25          Київ    NaN  174.0  159.0  120.0   73.0  120.0  121.0  110.0\n",
              "26   Севастополь    NaN    NaN    NaN  125.0   70.0  120.0    NaN    NaN"
            ],
            "text/html": [
              "\n",
              "  <div id=\"df-0cb6872b-eafb-4f06-a078-87811ac49cd8\">\n",
              "    <div class=\"colab-df-container\">\n",
              "      <div>\n",
              "<style scoped>\n",
              "    .dataframe tbody tr th:only-of-type {\n",
              "        vertical-align: middle;\n",
              "    }\n",
              "\n",
              "    .dataframe tbody tr th {\n",
              "        vertical-align: top;\n",
              "    }\n",
              "\n",
              "    .dataframe thead th {\n",
              "        text-align: right;\n",
              "    }\n",
              "</style>\n",
              "<table border=\"1\" class=\"dataframe\">\n",
              "  <thead>\n",
              "    <tr style=\"text-align: right;\">\n",
              "      <th></th>\n",
              "      <th>Регіон</th>\n",
              "      <th>1950</th>\n",
              "      <th>1960</th>\n",
              "      <th>1970</th>\n",
              "      <th>1990</th>\n",
              "      <th>2000</th>\n",
              "      <th>2012</th>\n",
              "      <th>2014</th>\n",
              "      <th>2019</th>\n",
              "    </tr>\n",
              "  </thead>\n",
              "  <tbody>\n",
              "    <tr>\n",
              "      <th>22</th>\n",
              "      <td>Черкаська</td>\n",
              "      <td>205.0</td>\n",
              "      <td>179.0</td>\n",
              "      <td>144.0</td>\n",
              "      <td>123.0</td>\n",
              "      <td>75.0</td>\n",
              "      <td>100.0</td>\n",
              "      <td>98.0</td>\n",
              "      <td>64.0</td>\n",
              "    </tr>\n",
              "    <tr>\n",
              "      <th>23</th>\n",
              "      <td>Чернівецька</td>\n",
              "      <td>247.0</td>\n",
              "      <td>218.0</td>\n",
              "      <td>170.0</td>\n",
              "      <td>148.0</td>\n",
              "      <td>101.0</td>\n",
              "      <td>128.0</td>\n",
              "      <td>129.0</td>\n",
              "      <td>92.0</td>\n",
              "    </tr>\n",
              "    <tr>\n",
              "      <th>24</th>\n",
              "      <td>Чернігівська</td>\n",
              "      <td>220.0</td>\n",
              "      <td>183.0</td>\n",
              "      <td>127.0</td>\n",
              "      <td>108.0</td>\n",
              "      <td>69.0</td>\n",
              "      <td>94.0</td>\n",
              "      <td>90.0</td>\n",
              "      <td>61.0</td>\n",
              "    </tr>\n",
              "    <tr>\n",
              "      <th>25</th>\n",
              "      <td>Київ</td>\n",
              "      <td>NaN</td>\n",
              "      <td>174.0</td>\n",
              "      <td>159.0</td>\n",
              "      <td>120.0</td>\n",
              "      <td>73.0</td>\n",
              "      <td>120.0</td>\n",
              "      <td>121.0</td>\n",
              "      <td>110.0</td>\n",
              "    </tr>\n",
              "    <tr>\n",
              "      <th>26</th>\n",
              "      <td>Севастополь</td>\n",
              "      <td>NaN</td>\n",
              "      <td>NaN</td>\n",
              "      <td>NaN</td>\n",
              "      <td>125.0</td>\n",
              "      <td>70.0</td>\n",
              "      <td>120.0</td>\n",
              "      <td>NaN</td>\n",
              "      <td>NaN</td>\n",
              "    </tr>\n",
              "  </tbody>\n",
              "</table>\n",
              "</div>\n",
              "      <button class=\"colab-df-convert\" onclick=\"convertToInteractive('df-0cb6872b-eafb-4f06-a078-87811ac49cd8')\"\n",
              "              title=\"Convert this dataframe to an interactive table.\"\n",
              "              style=\"display:none;\">\n",
              "        \n",
              "  <svg xmlns=\"http://www.w3.org/2000/svg\" height=\"24px\"viewBox=\"0 0 24 24\"\n",
              "       width=\"24px\">\n",
              "    <path d=\"M0 0h24v24H0V0z\" fill=\"none\"/>\n",
              "    <path d=\"M18.56 5.44l.94 2.06.94-2.06 2.06-.94-2.06-.94-.94-2.06-.94 2.06-2.06.94zm-11 1L8.5 8.5l.94-2.06 2.06-.94-2.06-.94L8.5 2.5l-.94 2.06-2.06.94zm10 10l.94 2.06.94-2.06 2.06-.94-2.06-.94-.94-2.06-.94 2.06-2.06.94z\"/><path d=\"M17.41 7.96l-1.37-1.37c-.4-.4-.92-.59-1.43-.59-.52 0-1.04.2-1.43.59L10.3 9.45l-7.72 7.72c-.78.78-.78 2.05 0 2.83L4 21.41c.39.39.9.59 1.41.59.51 0 1.02-.2 1.41-.59l7.78-7.78 2.81-2.81c.8-.78.8-2.07 0-2.86zM5.41 20L4 18.59l7.72-7.72 1.47 1.35L5.41 20z\"/>\n",
              "  </svg>\n",
              "      </button>\n",
              "      \n",
              "  <style>\n",
              "    .colab-df-container {\n",
              "      display:flex;\n",
              "      flex-wrap:wrap;\n",
              "      gap: 12px;\n",
              "    }\n",
              "\n",
              "    .colab-df-convert {\n",
              "      background-color: #E8F0FE;\n",
              "      border: none;\n",
              "      border-radius: 50%;\n",
              "      cursor: pointer;\n",
              "      display: none;\n",
              "      fill: #1967D2;\n",
              "      height: 32px;\n",
              "      padding: 0 0 0 0;\n",
              "      width: 32px;\n",
              "    }\n",
              "\n",
              "    .colab-df-convert:hover {\n",
              "      background-color: #E2EBFA;\n",
              "      box-shadow: 0px 1px 2px rgba(60, 64, 67, 0.3), 0px 1px 3px 1px rgba(60, 64, 67, 0.15);\n",
              "      fill: #174EA6;\n",
              "    }\n",
              "\n",
              "    [theme=dark] .colab-df-convert {\n",
              "      background-color: #3B4455;\n",
              "      fill: #D2E3FC;\n",
              "    }\n",
              "\n",
              "    [theme=dark] .colab-df-convert:hover {\n",
              "      background-color: #434B5C;\n",
              "      box-shadow: 0px 1px 3px 1px rgba(0, 0, 0, 0.15);\n",
              "      filter: drop-shadow(0px 1px 2px rgba(0, 0, 0, 0.3));\n",
              "      fill: #FFFFFF;\n",
              "    }\n",
              "  </style>\n",
              "\n",
              "      <script>\n",
              "        const buttonEl =\n",
              "          document.querySelector('#df-0cb6872b-eafb-4f06-a078-87811ac49cd8 button.colab-df-convert');\n",
              "        buttonEl.style.display =\n",
              "          google.colab.kernel.accessAllowed ? 'block' : 'none';\n",
              "\n",
              "        async function convertToInteractive(key) {\n",
              "          const element = document.querySelector('#df-0cb6872b-eafb-4f06-a078-87811ac49cd8');\n",
              "          const dataTable =\n",
              "            await google.colab.kernel.invokeFunction('convertToInteractive',\n",
              "                                                     [key], {});\n",
              "          if (!dataTable) return;\n",
              "\n",
              "          const docLinkHtml = 'Like what you see? Visit the ' +\n",
              "            '<a target=\"_blank\" href=https://colab.research.google.com/notebooks/data_table.ipynb>data table notebook</a>'\n",
              "            + ' to learn more about interactive tables.';\n",
              "          element.innerHTML = '';\n",
              "          dataTable['output_type'] = 'display_data';\n",
              "          await google.colab.output.renderOutput(dataTable, element);\n",
              "          const docLink = document.createElement('div');\n",
              "          docLink.innerHTML = docLinkHtml;\n",
              "          element.appendChild(docLink);\n",
              "        }\n",
              "      </script>\n",
              "    </div>\n",
              "  </div>\n",
              "  "
            ]
          },
          "metadata": {},
          "execution_count": 10
        }
      ]
    },
    {
      "cell_type": "markdown",
      "source": [
        "# Замінюємо відсутні дані в стовпцях середніми значеннями цих стовпців"
      ],
      "metadata": {
        "id": "9OvT1rEnx0vd"
      }
    },
    {
      "cell_type": "code",
      "source": [
        "df.fillna(df.mean(), inplace=True)"
      ],
      "metadata": {
        "colab": {
          "base_uri": "https://localhost:8080/"
        },
        "id": "4ykwR66MyTQ8",
        "outputId": "8ac56880-88a4-44f3-a745-adcdbf6afe6b"
      },
      "execution_count": 11,
      "outputs": [
        {
          "output_type": "stream",
          "name": "stderr",
          "text": [
            "<ipython-input-11-bf934754a5b1>:1: FutureWarning: The default value of numeric_only in DataFrame.mean is deprecated. In a future version, it will default to False. In addition, specifying 'numeric_only=None' is deprecated. Select only valid columns or specify the value of numeric_only to silence this warning.\n",
            "  df.fillna(df.mean(), inplace=True)\n"
          ]
        }
      ]
    },
    {
      "cell_type": "code",
      "source": [
        "df.head()"
      ],
      "metadata": {
        "colab": {
          "base_uri": "https://localhost:8080/",
          "height": 206
        },
        "id": "-N-aIqvayZfa",
        "outputId": "d2291e75-13e3-41a0-a34a-47d0156bffc5"
      },
      "execution_count": 12,
      "outputs": [
        {
          "output_type": "execute_result",
          "data": {
            "text/plain": [
              "             Регіон   1950   1960   1970   1990   2000   2012    2014  \\\n",
              "0              Крим  230.0  206.0  160.0  130.0   73.0  126.0  111.44   \n",
              "1         Вінницька  224.0  192.0  142.0  124.0   84.0  112.0  109.00   \n",
              "2         Волинська  247.0  250.0  179.0  153.0  112.0  148.0  141.00   \n",
              "3  Дніпропетровська  204.0  204.0  151.0  123.0   71.0  112.0  111.00   \n",
              "4          Донецька  271.0  214.0  140.0  109.0   61.0   98.0   82.00   \n",
              "\n",
              "         2019  \n",
              "0   80.173913  \n",
              "1   76.000000  \n",
              "2  101.000000  \n",
              "3   71.000000  \n",
              "4   80.173913  "
            ],
            "text/html": [
              "\n",
              "  <div id=\"df-c05600cd-5d0c-4a83-a6d4-37ca04a356c4\">\n",
              "    <div class=\"colab-df-container\">\n",
              "      <div>\n",
              "<style scoped>\n",
              "    .dataframe tbody tr th:only-of-type {\n",
              "        vertical-align: middle;\n",
              "    }\n",
              "\n",
              "    .dataframe tbody tr th {\n",
              "        vertical-align: top;\n",
              "    }\n",
              "\n",
              "    .dataframe thead th {\n",
              "        text-align: right;\n",
              "    }\n",
              "</style>\n",
              "<table border=\"1\" class=\"dataframe\">\n",
              "  <thead>\n",
              "    <tr style=\"text-align: right;\">\n",
              "      <th></th>\n",
              "      <th>Регіон</th>\n",
              "      <th>1950</th>\n",
              "      <th>1960</th>\n",
              "      <th>1970</th>\n",
              "      <th>1990</th>\n",
              "      <th>2000</th>\n",
              "      <th>2012</th>\n",
              "      <th>2014</th>\n",
              "      <th>2019</th>\n",
              "    </tr>\n",
              "  </thead>\n",
              "  <tbody>\n",
              "    <tr>\n",
              "      <th>0</th>\n",
              "      <td>Крим</td>\n",
              "      <td>230.0</td>\n",
              "      <td>206.0</td>\n",
              "      <td>160.0</td>\n",
              "      <td>130.0</td>\n",
              "      <td>73.0</td>\n",
              "      <td>126.0</td>\n",
              "      <td>111.44</td>\n",
              "      <td>80.173913</td>\n",
              "    </tr>\n",
              "    <tr>\n",
              "      <th>1</th>\n",
              "      <td>Вінницька</td>\n",
              "      <td>224.0</td>\n",
              "      <td>192.0</td>\n",
              "      <td>142.0</td>\n",
              "      <td>124.0</td>\n",
              "      <td>84.0</td>\n",
              "      <td>112.0</td>\n",
              "      <td>109.00</td>\n",
              "      <td>76.000000</td>\n",
              "    </tr>\n",
              "    <tr>\n",
              "      <th>2</th>\n",
              "      <td>Волинська</td>\n",
              "      <td>247.0</td>\n",
              "      <td>250.0</td>\n",
              "      <td>179.0</td>\n",
              "      <td>153.0</td>\n",
              "      <td>112.0</td>\n",
              "      <td>148.0</td>\n",
              "      <td>141.00</td>\n",
              "      <td>101.000000</td>\n",
              "    </tr>\n",
              "    <tr>\n",
              "      <th>3</th>\n",
              "      <td>Дніпропетровська</td>\n",
              "      <td>204.0</td>\n",
              "      <td>204.0</td>\n",
              "      <td>151.0</td>\n",
              "      <td>123.0</td>\n",
              "      <td>71.0</td>\n",
              "      <td>112.0</td>\n",
              "      <td>111.00</td>\n",
              "      <td>71.000000</td>\n",
              "    </tr>\n",
              "    <tr>\n",
              "      <th>4</th>\n",
              "      <td>Донецька</td>\n",
              "      <td>271.0</td>\n",
              "      <td>214.0</td>\n",
              "      <td>140.0</td>\n",
              "      <td>109.0</td>\n",
              "      <td>61.0</td>\n",
              "      <td>98.0</td>\n",
              "      <td>82.00</td>\n",
              "      <td>80.173913</td>\n",
              "    </tr>\n",
              "  </tbody>\n",
              "</table>\n",
              "</div>\n",
              "      <button class=\"colab-df-convert\" onclick=\"convertToInteractive('df-c05600cd-5d0c-4a83-a6d4-37ca04a356c4')\"\n",
              "              title=\"Convert this dataframe to an interactive table.\"\n",
              "              style=\"display:none;\">\n",
              "        \n",
              "  <svg xmlns=\"http://www.w3.org/2000/svg\" height=\"24px\"viewBox=\"0 0 24 24\"\n",
              "       width=\"24px\">\n",
              "    <path d=\"M0 0h24v24H0V0z\" fill=\"none\"/>\n",
              "    <path d=\"M18.56 5.44l.94 2.06.94-2.06 2.06-.94-2.06-.94-.94-2.06-.94 2.06-2.06.94zm-11 1L8.5 8.5l.94-2.06 2.06-.94-2.06-.94L8.5 2.5l-.94 2.06-2.06.94zm10 10l.94 2.06.94-2.06 2.06-.94-2.06-.94-.94-2.06-.94 2.06-2.06.94z\"/><path d=\"M17.41 7.96l-1.37-1.37c-.4-.4-.92-.59-1.43-.59-.52 0-1.04.2-1.43.59L10.3 9.45l-7.72 7.72c-.78.78-.78 2.05 0 2.83L4 21.41c.39.39.9.59 1.41.59.51 0 1.02-.2 1.41-.59l7.78-7.78 2.81-2.81c.8-.78.8-2.07 0-2.86zM5.41 20L4 18.59l7.72-7.72 1.47 1.35L5.41 20z\"/>\n",
              "  </svg>\n",
              "      </button>\n",
              "      \n",
              "  <style>\n",
              "    .colab-df-container {\n",
              "      display:flex;\n",
              "      flex-wrap:wrap;\n",
              "      gap: 12px;\n",
              "    }\n",
              "\n",
              "    .colab-df-convert {\n",
              "      background-color: #E8F0FE;\n",
              "      border: none;\n",
              "      border-radius: 50%;\n",
              "      cursor: pointer;\n",
              "      display: none;\n",
              "      fill: #1967D2;\n",
              "      height: 32px;\n",
              "      padding: 0 0 0 0;\n",
              "      width: 32px;\n",
              "    }\n",
              "\n",
              "    .colab-df-convert:hover {\n",
              "      background-color: #E2EBFA;\n",
              "      box-shadow: 0px 1px 2px rgba(60, 64, 67, 0.3), 0px 1px 3px 1px rgba(60, 64, 67, 0.15);\n",
              "      fill: #174EA6;\n",
              "    }\n",
              "\n",
              "    [theme=dark] .colab-df-convert {\n",
              "      background-color: #3B4455;\n",
              "      fill: #D2E3FC;\n",
              "    }\n",
              "\n",
              "    [theme=dark] .colab-df-convert:hover {\n",
              "      background-color: #434B5C;\n",
              "      box-shadow: 0px 1px 3px 1px rgba(0, 0, 0, 0.15);\n",
              "      filter: drop-shadow(0px 1px 2px rgba(0, 0, 0, 0.3));\n",
              "      fill: #FFFFFF;\n",
              "    }\n",
              "  </style>\n",
              "\n",
              "      <script>\n",
              "        const buttonEl =\n",
              "          document.querySelector('#df-c05600cd-5d0c-4a83-a6d4-37ca04a356c4 button.colab-df-convert');\n",
              "        buttonEl.style.display =\n",
              "          google.colab.kernel.accessAllowed ? 'block' : 'none';\n",
              "\n",
              "        async function convertToInteractive(key) {\n",
              "          const element = document.querySelector('#df-c05600cd-5d0c-4a83-a6d4-37ca04a356c4');\n",
              "          const dataTable =\n",
              "            await google.colab.kernel.invokeFunction('convertToInteractive',\n",
              "                                                     [key], {});\n",
              "          if (!dataTable) return;\n",
              "\n",
              "          const docLinkHtml = 'Like what you see? Visit the ' +\n",
              "            '<a target=\"_blank\" href=https://colab.research.google.com/notebooks/data_table.ipynb>data table notebook</a>'\n",
              "            + ' to learn more about interactive tables.';\n",
              "          element.innerHTML = '';\n",
              "          dataTable['output_type'] = 'display_data';\n",
              "          await google.colab.output.renderOutput(dataTable, element);\n",
              "          const docLink = document.createElement('div');\n",
              "          docLink.innerHTML = docLinkHtml;\n",
              "          element.appendChild(docLink);\n",
              "        }\n",
              "      </script>\n",
              "    </div>\n",
              "  </div>\n",
              "  "
            ]
          },
          "metadata": {},
          "execution_count": 12
        }
      ]
    },
    {
      "cell_type": "markdown",
      "source": [
        "# Отримуємо список регіонів, де рівень народжуваності у 2019 році був вищим за середній по Україні"
      ],
      "metadata": {
        "id": "GdLMF4fkzAdV"
      }
    },
    {
      "cell_type": "code",
      "source": [
        "# Знайдемо середнє значення народжуваності за 2019 рік\n",
        "mean_birth_rate = df['2019'].mean()\n",
        "mean_birth_rate"
      ],
      "metadata": {
        "colab": {
          "base_uri": "https://localhost:8080/"
        },
        "id": "eNPPHQKzzImp",
        "outputId": "ec994c1c-9c3f-41e0-94ea-7d00e2b00953"
      },
      "execution_count": 13,
      "outputs": [
        {
          "output_type": "execute_result",
          "data": {
            "text/plain": [
              "80.17391304347828"
            ]
          },
          "metadata": {},
          "execution_count": 13
        }
      ]
    },
    {
      "cell_type": "code",
      "source": [
        "# Відфільтруємо регіони, де народжуваність вища за середнє\n",
        "regions_above_mean = df[df['2019'] > mean_birth_rate]['Регіон']\n",
        "regions_above_mean"
      ],
      "metadata": {
        "colab": {
          "base_uri": "https://localhost:8080/"
        },
        "id": "nFtDpf-Zzq09",
        "outputId": "30871dd1-7566-4fa5-973e-59ad28ee23fe"
      },
      "execution_count": 14,
      "outputs": [
        {
          "output_type": "execute_result",
          "data": {
            "text/plain": [
              "2             Волинська\n",
              "6          Закарпатська\n",
              "8     Івано-Франківська\n",
              "12            Львівська\n",
              "14              Одеська\n",
              "16           Рівненська\n",
              "20           Херсонська\n",
              "23          Чернівецька\n",
              "25                 Київ\n",
              "Name: Регіон, dtype: object"
            ]
          },
          "metadata": {},
          "execution_count": 14
        }
      ]
    },
    {
      "cell_type": "markdown",
      "source": [
        "# Регіон з найвищою народжуваністю у 2014 році?"
      ],
      "metadata": {
        "id": "sS8uEQf00Q2p"
      }
    },
    {
      "cell_type": "code",
      "source": [
        "highest_birth_rate_region_2014 = df.sort_values('2014', ascending=False).iloc[0]['Регіон']\n",
        "print(\"Регіон з найвищою народжуваністю у 2014 році:\", highest_birth_rate_region_2014)"
      ],
      "metadata": {
        "colab": {
          "base_uri": "https://localhost:8080/"
        },
        "id": "mYe9K3mK0oS9",
        "outputId": "d048f78d-bc0b-4ce6-9ad7-617722d074a6"
      },
      "execution_count": 15,
      "outputs": [
        {
          "output_type": "stream",
          "name": "stdout",
          "text": [
            "Регіон з найвищою народжуваністю у 2014 році: Рівненська\n"
          ]
        }
      ]
    },
    {
      "cell_type": "markdown",
      "source": [
        "# Будуємо стовпчикову діаграму народжуваності по регіонах у 2019 році"
      ],
      "metadata": {
        "id": "AyrpwG2t3lZt"
      }
    },
    {
      "cell_type": "code",
      "source": [
        "import matplotlib.pyplot as plt"
      ],
      "metadata": {
        "id": "D1N2XI-e3493"
      },
      "execution_count": 16,
      "outputs": []
    },
    {
      "cell_type": "code",
      "source": [
        "plt.bar(df['Регіон'], df['2019'])\n",
        "plt.xticks(rotation=90)\n",
        "plt.xlabel('Регіон')\n",
        "plt.ylabel('Коефіцієнт народжуваності')\n",
        "plt.title('Народжуваність по регіонах в 2019 році')\n",
        "plt.show()"
      ],
      "metadata": {
        "colab": {
          "base_uri": "https://localhost:8080/",
          "height": 593
        },
        "id": "LkIBQZjO3mQm",
        "outputId": "8b786b58-7ea6-47ce-f95a-ee4aabde9a98"
      },
      "execution_count": 17,
      "outputs": [
        {
          "output_type": "display_data",
          "data": {
            "text/plain": [
              "<Figure size 640x480 with 1 Axes>"
            ],
            "image/png": "[encoded data removed]"
          },
          "metadata": {}
        }
      ]
    },
    {
      "cell_type": "markdown",
      "source": [
        "**Ще графіки**"
      ],
      "metadata": {
        "id": "UsYdvW6NSZ5j"
      }
    },
    {
      "cell_type": "code",
      "source": [
        "plt.figure(figsize=(10,6))\n",
        "plt.title('Boxplot для коефіцієнта народжуваності за регіонами')\n",
        "df.boxplot(column='2019', whis=1.5, sym='o')\n",
        "plt.show()"
      ],
      "metadata": {
        "colab": {
          "base_uri": "https://localhost:8080/",
          "height": 545
        },
        "id": "JR5k4JL6SXfL",
        "outputId": "722a1e16-f7de-4837-b721-9a79e0f53ff0"
      },
      "execution_count": 18,
      "outputs": [
        {
          "output_type": "display_data",
          "data": {
            "text/plain": [
              "<Figure size 1000x600 with 1 Axes>"
            ],
            "image/png": "[encoded data removed]"
          },
          "metadata": {}
        }
      ]
    },
    {
      "cell_type": "code",
      "source": [
        "plt.scatter(df['Регіон'], df['2014'])\n",
        "plt.xticks(rotation=90)\n",
        "plt.xlabel('Регіон')\n",
        "plt.ylabel('Коефіцієнт народжуваності')\n",
        "plt.title('Народжуваність по регіонах в 2014 році')\n",
        "plt.show()"
      ],
      "metadata": {
        "colab": {
          "base_uri": "https://localhost:8080/",
          "height": 593
        },
        "id": "-6j9fcdD2Gif",
        "outputId": "6583e831-4261-4d91-a14c-4f03f9f30a12"
      },
      "execution_count": 30,
      "outputs": [
        {
          "output_type": "display_data",
          "data": {
            "text/plain": [
              "<Figure size 640x480 with 1 Axes>"
            ],
            "image/png": "[encoded data removed]"
          },
          "metadata": {}
        }
      ]
    }
  ]
}