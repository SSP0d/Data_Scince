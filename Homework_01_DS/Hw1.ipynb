{
  "nbformat": 4,
  "nbformat_minor": 0,
  "metadata": {
    "colab": {
      "provenance": []
    },
    "kernelspec": {
      "name": "python3",
      "display_name": "Python 3"
    },
    "language_info": {
      "name": "python"
    }
  },
  "cells": [
    {
      "cell_type": "code",
      "execution_count": 1,
      "metadata": {
        "id": "jt0gaPRDDQHD"
      },
      "outputs": [],
      "source": [
        "import numpy as np"
      ]
    },
    {
      "cell_type": "markdown",
      "source": [
        "1. Створіть одновимірний масив (вектор) з першими 10-ма натуральними числами та виведіть його значення"
      ],
      "metadata": {
        "id": "qJAn8lAIDbXC"
      }
    },
    {
      "cell_type": "code",
      "source": [
        "arr = np.arange(1, 11)\n",
        "\n",
        "print(arr)"
      ],
      "metadata": {
        "colab": {
          "base_uri": "https://localhost:8080/"
        },
        "id": "iEMBaDBDDqq9",
        "outputId": "d93e8f09-cd2c-4c26-cb11-ec9f8cf340f4"
      },
      "execution_count": 4,
      "outputs": [
        {
          "output_type": "stream",
          "name": "stdout",
          "text": [
            "[ 1  2  3  4  5  6  7  8  9 10]\n"
          ]
        }
      ]
    },
    {
      "cell_type": "markdown",
      "source": [
        "2. Створіть двовимірний масив (матрицю) розміром 3x3, заповніть його нулями та виведіть його значення"
      ],
      "metadata": {
        "id": "R7z0YiQ8EEfN"
      }
    },
    {
      "cell_type": "code",
      "source": [
        "zero = np.zeros((3, 3))\n",
        "\n",
        "print(zero)"
      ],
      "metadata": {
        "colab": {
          "base_uri": "https://localhost:8080/"
        },
        "id": "0-N1ymC8EHEl",
        "outputId": "4abe45f0-6a83-4877-f963-55f5db983c66"
      },
      "execution_count": 5,
      "outputs": [
        {
          "output_type": "stream",
          "name": "stdout",
          "text": [
            "[[0. 0. 0.]\n",
            " [0. 0. 0.]\n",
            " [0. 0. 0.]]\n"
          ]
        }
      ]
    },
    {
      "cell_type": "markdown",
      "source": [
        "3. Створіть масив розміром 5x5, заповніть його випадковими цілими числами в діапазоні від 1 до 10 та виведіть його значення"
      ],
      "metadata": {
        "id": "0-EuTTNrEUNU"
      }
    },
    {
      "cell_type": "code",
      "source": [
        "random = np.random.randint(1, 11, size=(5, 5))\n",
        "\n",
        "print(random)"
      ],
      "metadata": {
        "colab": {
          "base_uri": "https://localhost:8080/"
        },
        "id": "jiHLOW6eEV9Z",
        "outputId": "913d8b14-5972-4179-a2bf-f4e7adc04ae1"
      },
      "execution_count": 41,
      "outputs": [
        {
          "output_type": "stream",
          "name": "stdout",
          "text": [
            "[[ 9  6  8  3  9]\n",
            " [ 6  1  2  1  7]\n",
            " [ 1  3  6  9  6]\n",
            " [ 9 10  8  1  8]\n",
            " [ 5  6  4  1 10]]\n"
          ]
        }
      ]
    },
    {
      "cell_type": "markdown",
      "source": [
        "4. Створіть масив розміром 4x4, заповніть його випадковими дійсними числами в діапазоні від 0 до 1 та виведіть його значення"
      ],
      "metadata": {
        "id": "UbDsDiIfEvDx"
      }
    },
    {
      "cell_type": "code",
      "source": [
        "rand = np.random.rand(4, 4)\n",
        "\n",
        "print(rand)"
      ],
      "metadata": {
        "colab": {
          "base_uri": "https://localhost:8080/"
        },
        "id": "FQrRo6mSEwZ9",
        "outputId": "e60c4361-8985-48d1-d399-a3c199a8fdec"
      },
      "execution_count": 7,
      "outputs": [
        {
          "output_type": "stream",
          "name": "stdout",
          "text": [
            "[[0.41334471 0.20796162 0.35806055 0.0080651 ]\n",
            " [0.99521969 0.74805649 0.07077504 0.73847212]\n",
            " [0.19070688 0.70791065 0.31867133 0.47571693]\n",
            " [0.24654502 0.16375267 0.65573981 0.36295878]]\n"
          ]
        }
      ]
    },
    {
      "cell_type": "markdown",
      "source": [
        "5. Створіть два одновимірних масиви розміром 5, заповніть їх випадковими цілими числами в діапазоні від 1 до 10 та виконайте на них поелементні операції додавання, віднімання та множення"
      ],
      "metadata": {
        "id": "im81SbJWFVri"
      }
    },
    {
      "cell_type": "code",
      "source": [
        "arr1 = np.random.randint(1, 11, size=5)\n",
        "arr2 = np.random.randint(1, 11, size=5)\n",
        "\n",
        "add_result = arr1 + arr2\n",
        "sub_result = arr1 - arr2\n",
        "mul_result = arr1 * arr2\n",
        "\n",
        "print(\"arr1:\", arr1)\n",
        "print(\"arr2:\", arr2)\n",
        "print(\"arr1 + arr2:\", add_result)\n",
        "print(\"arr1 - arr2:\", sub_result)\n",
        "print(\"arr1 * arr2:\", mul_result)"
      ],
      "metadata": {
        "colab": {
          "base_uri": "https://localhost:8080/"
        },
        "id": "ANoPq7ogFat2",
        "outputId": "d3ffbb9f-4ae3-4fbe-c420-74365ed248bc"
      },
      "execution_count": 42,
      "outputs": [
        {
          "output_type": "stream",
          "name": "stdout",
          "text": [
            "arr1: [2 8 6 5 1]\n",
            "arr2: [1 9 9 1 3]\n",
            "arr1 + arr2: [ 3 17 15  6  4]\n",
            "arr1 - arr2: [ 1 -1 -3  4 -2]\n",
            "arr1 * arr2: [ 2 72 54  5  3]\n"
          ]
        }
      ]
    },
    {
      "cell_type": "markdown",
      "source": [
        "6. Створіть два вектори розміром 7, заповніть довільними числами та знайдіть їх скалярний добуток"
      ],
      "metadata": {
        "id": "xcHrz9svGruM"
      }
    },
    {
      "cell_type": "code",
      "source": [
        "a = np.array([1, 2, 3, 4, 5, 6, 7])\n",
        "b = np.array([7, 6, 5, 4, 3, 2, 1])\n",
        "\n",
        "dot = np.dot(a, b)\n",
        "\n",
        "print(dot)"
      ],
      "metadata": {
        "colab": {
          "base_uri": "https://localhost:8080/"
        },
        "id": "SUOi2H4tHPBE",
        "outputId": "9e3ecf2d-7fb4-4840-9c20-0f0e67aaffec"
      },
      "execution_count": 12,
      "outputs": [
        {
          "output_type": "stream",
          "name": "stdout",
          "text": [
            "84\n"
          ]
        }
      ]
    },
    {
      "cell_type": "markdown",
      "source": [
        "7. Створіть дві матриці розміром 2x2 та 2x3, заповніть їх випадковими цілими числами в діапазоні від 1 до 10 та перемножте їх між собою"
      ],
      "metadata": {
        "id": "8Qbw73l-Hwp8"
      }
    },
    {
      "cell_type": "code",
      "source": [
        "A = np.random.randint(1, 11, size=(2, 2))\n",
        "B = np.random.randint(1, 11, size=(2, 3))\n",
        "\n",
        "C = np.dot(A, B)\n",
        "\n",
        "print(\"Матриця A:\\n\", A)\n",
        "print(\"Матриця B:\\n\", B)\n",
        "print(\"Результат множення A і B:\\n\", C)"
      ],
      "metadata": {
        "colab": {
          "base_uri": "https://localhost:8080/"
        },
        "id": "k3jFZh8kH4xe",
        "outputId": "7fd4e24f-d26f-4227-803c-266d35dbab32"
      },
      "execution_count": 43,
      "outputs": [
        {
          "output_type": "stream",
          "name": "stdout",
          "text": [
            "Матриця A:\n",
            " [[ 3 10]\n",
            " [ 9  8]]\n",
            "Матриця B:\n",
            " [[ 8  6  8]\n",
            " [ 4 10  2]]\n",
            "Результат множення A і B:\n",
            " [[ 64 118  44]\n",
            " [104 134  88]]\n"
          ]
        }
      ]
    },
    {
      "cell_type": "markdown",
      "source": [
        "8. Створіть матрицю розміром 3x3, заповніть її випадковими цілими числами в діапазоні від 1 до 10 та знайдіть її обернену матрицю"
      ],
      "metadata": {
        "id": "z4Ja6IPPJBtY"
      }
    },
    {
      "cell_type": "code",
      "source": [
        "A = np.random.randint(1, 11, size=(3, 3))\n",
        "\n",
        "if np.linalg.det(A) != 0:\n",
        "    A_inv = np.linalg.inv(A)\n",
        "    print(\"Матриця A:\\n\", A)\n",
        "    print(\"Обернена матриця A:\\n\", A_inv)\n",
        "else:\n",
        "    print(\"Матриця A є сингулярною, обернена матриця не існує.\")"
      ],
      "metadata": {
        "colab": {
          "base_uri": "https://localhost:8080/"
        },
        "id": "JgERW4dvJYrf",
        "outputId": "2669ddf5-96b2-42d4-edb2-d820f586f6e2"
      },
      "execution_count": 44,
      "outputs": [
        {
          "output_type": "stream",
          "name": "stdout",
          "text": [
            "Матриця A:\n",
            " [[7 4 9]\n",
            " [9 1 3]\n",
            " [4 2 4]]\n",
            "Обернена матриця A:\n",
            " [[-0.125   0.125   0.1875]\n",
            " [-1.5    -0.5     3.75  ]\n",
            " [ 0.875   0.125  -1.8125]]\n"
          ]
        }
      ]
    },
    {
      "cell_type": "markdown",
      "source": [
        "9. Створіть матрицю розміром 4x4, заповніть її випадковими дійсними числами в діапазоні від 0 до 1 та транспонуйте її"
      ],
      "metadata": {
        "id": "PzAjG_1_LakV"
      }
    },
    {
      "cell_type": "code",
      "source": [
        "A = np.random.rand(4, 4)\n",
        "\n",
        "A_transposed = np.transpose(A)\n",
        "\n",
        "print(\"Початкова матриця:\\n\", A)\n",
        "print(\"Транспонована матриця:\\n\", A_transposed)"
      ],
      "metadata": {
        "colab": {
          "base_uri": "https://localhost:8080/"
        },
        "id": "QxSvmkekL9CW",
        "outputId": "1ac50508-e506-4560-f8ca-4fd338c4dc4b"
      },
      "execution_count": 30,
      "outputs": [
        {
          "output_type": "stream",
          "name": "stdout",
          "text": [
            "Початкова матриця:\n",
            " [[6.71622373e-01 6.51977508e-01 7.25972663e-01 5.44078607e-01]\n",
            " [4.10620122e-01 9.34159255e-01 2.78325668e-01 6.55701327e-01]\n",
            " [4.35565060e-01 6.20197389e-01 7.62755104e-03 8.12919780e-01]\n",
            " [8.83185763e-01 9.34239875e-02 7.16048691e-04 6.12579843e-01]]\n",
            "Транспонована матриця:\n",
            " [[6.71622373e-01 4.10620122e-01 4.35565060e-01 8.83185763e-01]\n",
            " [6.51977508e-01 9.34159255e-01 6.20197389e-01 9.34239875e-02]\n",
            " [7.25972663e-01 2.78325668e-01 7.62755104e-03 7.16048691e-04]\n",
            " [5.44078607e-01 6.55701327e-01 8.12919780e-01 6.12579843e-01]]\n"
          ]
        }
      ]
    },
    {
      "cell_type": "markdown",
      "source": [
        "10. Створіть матрицю розміром 3x4 та вектор розміром 4, заповніть їх випадковими цілими числами в діапазоні від 1 до 10 та перемножте матрицю на вектор"
      ],
      "metadata": {
        "id": "jBDERcUCMIVv"
      }
    },
    {
      "cell_type": "code",
      "source": [
        "matrix = np.random.randint(1, 11, size=(3, 4))\n",
        "\n",
        "vector = np.random.randint(1, 11, size=4)\n",
        "\n",
        "result = np.dot(matrix, vector)\n",
        "\n",
        "print(\"Матриця:\\n\", matrix)\n",
        "print(\"Вектор:\\n\", vector)\n",
        "print(\"Результат:\\n\", result)"
      ],
      "metadata": {
        "colab": {
          "base_uri": "https://localhost:8080/"
        },
        "id": "vzVNLTGNMKha",
        "outputId": "7f0dc276-829d-4214-86b3-0e4202192b74"
      },
      "execution_count": 45,
      "outputs": [
        {
          "output_type": "stream",
          "name": "stdout",
          "text": [
            "Матриця:\n",
            " [[10  8  9  4]\n",
            " [ 9  6  6  4]\n",
            " [ 1  6  8  5]]\n",
            "Вектор:\n",
            " [10  8  3  8]\n",
            "Результат:\n",
            " [223 188 122]\n"
          ]
        }
      ]
    },
    {
      "cell_type": "markdown",
      "source": [
        "11. Створіть матрицю розміром 2x3 та вектор розміром 3, заповніть їх випадковими дійсними числами в діапазоні від 0 до 1 та перемножте матрицю на вектор"
      ],
      "metadata": {
        "id": "Z7MFdYZYPfcx"
      }
    },
    {
      "cell_type": "code",
      "source": [
        "matrix = np.random.rand(2, 3)\n",
        "\n",
        "vector = np.random.rand(3)\n",
        "\n",
        "result = np.dot(matrix, vector)\n",
        "\n",
        "print(\"Матриця:\\n\", matrix)\n",
        "print(\"Вектор:\\n\", vector)\n",
        "print(\"Результат:\\n\", result)"
      ],
      "metadata": {
        "colab": {
          "base_uri": "https://localhost:8080/"
        },
        "id": "hPp8ZqdAPieD",
        "outputId": "21e1c2d3-91df-47ad-a961-33b2e45cc8db"
      },
      "execution_count": 34,
      "outputs": [
        {
          "output_type": "stream",
          "name": "stdout",
          "text": [
            "Матриця:\n",
            " [[0.84174858 0.17245821 0.49635907]\n",
            " [0.5494838  0.91362422 0.05471942]]\n",
            "Вектор:\n",
            " [0.93393442 0.61888674 0.28746458]\n",
            "Результат:\n",
            " [1.03555572 1.09434164]\n"
          ]
        }
      ]
    },
    {
      "cell_type": "markdown",
      "source": [
        "12. Створіть дві матриці розміром 2x2, заповніть їх випадковими цілими числами в діапазоні від 1 до 10 та виконайте їхнє поелементне множення"
      ],
      "metadata": {
        "id": "iJSevPUZQvfl"
      }
    },
    {
      "cell_type": "code",
      "source": [
        "A = np.random.randint(1, 11, size=(2, 2))\n",
        "B = np.random.randint(1, 11, size=(2, 2))\n",
        "\n",
        "C = A * B\n",
        "\n",
        "print(\"Матриця A:\\n\", A)\n",
        "print(\"Матриця B:\\n\", B)\n",
        "print(\"Результат поелементного множення:\\n\", C)"
      ],
      "metadata": {
        "colab": {
          "base_uri": "https://localhost:8080/"
        },
        "id": "gahqf99fRWUi",
        "outputId": "5a371446-09be-4281-c6de-adcde435a4bc"
      },
      "execution_count": 46,
      "outputs": [
        {
          "output_type": "stream",
          "name": "stdout",
          "text": [
            "Матриця A:\n",
            " [[9 2]\n",
            " [5 3]]\n",
            "Матриця B:\n",
            " [[10  1]\n",
            " [ 7  9]]\n",
            "Результат поелементного множення:\n",
            " [[90  2]\n",
            " [35 27]]\n"
          ]
        }
      ]
    },
    {
      "cell_type": "markdown",
      "source": [
        "13. Створіть дві матриці розміром 2x2, заповніть їх випадковими цілими числами в діапазоні від 1 до 10 та знайдіть їх добуток"
      ],
      "metadata": {
        "id": "iIMVn2_1RgKz"
      }
    },
    {
      "cell_type": "code",
      "source": [
        "A = np.random.randint(1, 11, size=(2, 2))\n",
        "B = np.random.randint(1, 11, size=(2, 2))\n",
        "\n",
        "C = np.dot(A, B)\n",
        "\n",
        "print(\"Матриця A:\\n\", A)\n",
        "print(\"Матриця B:\\n\", B)\n",
        "print(\"Результат множення матриць A та B:\\n\", C)"
      ],
      "metadata": {
        "colab": {
          "base_uri": "https://localhost:8080/"
        },
        "id": "v4oNXhGuRlle",
        "outputId": "e4174cc1-acf2-4404-ac13-033ee3eaa5c1"
      },
      "execution_count": 47,
      "outputs": [
        {
          "output_type": "stream",
          "name": "stdout",
          "text": [
            "Матриця A:\n",
            " [[8 9]\n",
            " [2 1]]\n",
            "Матриця B:\n",
            " [[9 6]\n",
            " [1 3]]\n",
            "Результат множення матриць A та B:\n",
            " [[81 75]\n",
            " [19 15]]\n"
          ]
        }
      ]
    },
    {
      "cell_type": "markdown",
      "source": [
        "14. Створіть матрицю розміром 5x5, заповніть її випадковими цілими числами в діапазоні від 1 до 100 та знайдіть суму елементів матриці"
      ],
      "metadata": {
        "id": "TwyPHX_uSoVL"
      }
    },
    {
      "cell_type": "code",
      "source": [
        "matrix = np.random.randint(1, 101, size=(5, 5))\n",
        "\n",
        "matrix_sum = np.sum(matrix)\n",
        "\n",
        "print(\"Матриця:\\n\", matrix)\n",
        "print(\"Сума елементів матриці: \", matrix_sum)"
      ],
      "metadata": {
        "colab": {
          "base_uri": "https://localhost:8080/"
        },
        "id": "RnoAQoETSrNM",
        "outputId": "6a9cbb60-fbbb-448d-982c-9dd2a5765bbc"
      },
      "execution_count": 48,
      "outputs": [
        {
          "output_type": "stream",
          "name": "stdout",
          "text": [
            "Матриця:\n",
            " [[ 91  24  54  86  26]\n",
            " [ 46  30  79  29  29]\n",
            " [  8  33  15  28  32]\n",
            " [100  86  25  35  69]\n",
            " [ 82  92  40  93   2]]\n",
            "Сума елементів матриці:  1234\n"
          ]
        }
      ]
    },
    {
      "cell_type": "markdown",
      "source": [
        "15. Створіть дві матриці розміром 4x4, заповніть їх випадковими цілими числами в діапазоні від 1 до 10 та знайдіть їхню різницю:"
      ],
      "metadata": {
        "id": "yF5S6UXaS_pD"
      }
    },
    {
      "cell_type": "code",
      "source": [
        "A = np.random.randint(1, 11, size=(4, 4))\n",
        "B = np.random.randint(1, 11, size=(4, 4))\n",
        "\n",
        "C = A - B\n",
        "\n",
        "print(\"Матриця A:\\n\", A)\n",
        "print(\"Матриця B:\\n\", B)\n",
        "print(\"Різниця матриць A і B:\\n\", C)"
      ],
      "metadata": {
        "colab": {
          "base_uri": "https://localhost:8080/"
        },
        "id": "wRY9SCDkTCUx",
        "outputId": "ed60f5bc-d52e-4022-ce0d-d1ae97338c11"
      },
      "execution_count": 52,
      "outputs": [
        {
          "output_type": "stream",
          "name": "stdout",
          "text": [
            "Матриця A:\n",
            " [[ 8  2 10  9]\n",
            " [10  4  8  6]\n",
            " [ 2  3  2  6]\n",
            " [ 2  8  7  4]]\n",
            "Матриця B:\n",
            " [[ 3  3 10  4]\n",
            " [ 9  4  7  7]\n",
            " [ 7  3  6  5]\n",
            " [ 8  5  9  9]]\n",
            "Різниця матриць A і B:\n",
            " [[ 5 -1  0  5]\n",
            " [ 1  0  1 -1]\n",
            " [-5  0 -4  1]\n",
            " [-6  3 -2 -5]]\n"
          ]
        }
      ]
    },
    {
      "cell_type": "markdown",
      "source": [
        "16. Створіть матрицю розміром 3x3, заповніть її випадковими дійсними числами в діапазоні від 0 до 1 та знайдіть вектор-стовпчик, що містить суму елементів кожного рядка матриці"
      ],
      "metadata": {
        "id": "GQmrKZewVMW0"
      }
    },
    {
      "cell_type": "code",
      "source": [
        "matrix = np.random.rand(3, 3)\n",
        "row_sums = matrix.sum(axis=1, keepdims=True)\n",
        "\n",
        "print(\"Матриця:\\n\", matrix)\n",
        "print(\"Вектор-стовпчик із сумами рядків:\\n\", row_sums)\n"
      ],
      "metadata": {
        "colab": {
          "base_uri": "https://localhost:8080/"
        },
        "id": "qAYNqhpRVRyA",
        "outputId": "861be42d-08ee-4389-a9d7-a9b819d669ab"
      },
      "execution_count": 53,
      "outputs": [
        {
          "output_type": "stream",
          "name": "stdout",
          "text": [
            "Матриця:\n",
            " [[0.59230631 0.03088796 0.67678164]\n",
            " [0.97988219 0.58658444 0.51300629]\n",
            " [0.49906587 0.38025116 0.80552854]]\n",
            "Вектор-стовпчик із сумами рядків:\n",
            " [[1.29997591]\n",
            " [2.07947293]\n",
            " [1.68484558]]\n"
          ]
        }
      ]
    },
    {
      "cell_type": "markdown",
      "source": [
        "17. Створіть матрицю розміром 3x4 з довільними цілими числами і створінь матрицю з квадратами цих чисел"
      ],
      "metadata": {
        "id": "Odq3D0D-YM9R"
      }
    },
    {
      "cell_type": "code",
      "source": [
        "matrix = np.random.randint(1, 11, size=(3, 4))\n",
        "squared_matrix = np.square(matrix)\n",
        "\n",
        "print(\"Початкова матриця:\\n\", matrix)\n",
        "print(\"Матриця з квадратами чисел:\\n\", squared_matrix)\n"
      ],
      "metadata": {
        "colab": {
          "base_uri": "https://localhost:8080/"
        },
        "id": "lHo0O6fmYSKX",
        "outputId": "515ebeb9-a167-405f-9f52-c7d97d3c7e81"
      },
      "execution_count": 54,
      "outputs": [
        {
          "output_type": "stream",
          "name": "stdout",
          "text": [
            "Початкова матриця:\n",
            " [[1 7 9 1]\n",
            " [4 5 8 1]\n",
            " [9 9 3 5]]\n",
            "Матриця з квадратами чисел:\n",
            " [[ 1 49 81  1]\n",
            " [16 25 64  1]\n",
            " [81 81  9 25]]\n"
          ]
        }
      ]
    },
    {
      "cell_type": "markdown",
      "source": [
        "18. Створіть вектор розміром 4, заповніть його випадковими цілими числами в діапазоні від 1 до 50 та знайдіть вектор з квадратними коренями цих чисел"
      ],
      "metadata": {
        "id": "5mvxV8DAYsgy"
      }
    },
    {
      "cell_type": "code",
      "source": [
        "vector = np.random.randint(1, 51, size=4)\n",
        "\n",
        "sqrt_vector = np.sqrt(vector)\n",
        "\n",
        "print(\"Вихідний вектор:\\n\", vector)\n",
        "print(\"Вектор з квадратними коренями:\\n\", sqrt_vector)"
      ],
      "metadata": {
        "colab": {
          "base_uri": "https://localhost:8080/"
        },
        "id": "HDFts9UlYzim",
        "outputId": "59faf3a7-1a20-45be-e341-9fe953a2f328"
      },
      "execution_count": 56,
      "outputs": [
        {
          "output_type": "stream",
          "name": "stdout",
          "text": [
            "Вихідний вектор:\n",
            " [48 16 45  9]\n",
            "Вектор з квадратними коренями:\n",
            " [6.92820323 4.         6.70820393 3.        ]\n"
          ]
        }
      ]
    }
  ]
}