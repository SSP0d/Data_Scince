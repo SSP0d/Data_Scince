{
  "nbformat": 4,
  "nbformat_minor": 0,
  "metadata": {
    "colab": {
      "provenance": []
    },
    "kernelspec": {
      "name": "python3",
      "display_name": "Python 3"
    },
    "language_info": {
      "name": "python"
    }
  },
  "cells": [
    {
      "cell_type": "code",
      "execution_count": 1,
      "metadata": {
        "id": "lq1NtBybtlqx"
      },
      "outputs": [],
      "source": [
        "import numpy as np\n",
        "import tensorflow as tf\n",
        "from tensorflow import keras\n",
        "from keras.models import Sequential\n",
        "from keras.layers import Conv2D, MaxPooling2D, Flatten, Dense, Dropout\n",
        "from keras.preprocessing.image import ImageDataGenerator\n",
        "from keras.optimizers import Adam"
      ]
    },
    {
      "cell_type": "markdown",
      "source": [
        "# Завантаження датасету Fashion MNIST"
      ],
      "metadata": {
        "id": "GjwjB2XZt6mw"
      }
    },
    {
      "cell_type": "code",
      "source": [
        "fashion_mnist = keras.datasets.fashion_mnist\n",
        "(train_images, train_labels), (test_images, test_labels) = fashion_mnist.load_data()"
      ],
      "metadata": {
        "id": "kZ4FccBrt-53"
      },
      "execution_count": 2,
      "outputs": []
    },
    {
      "cell_type": "markdown",
      "source": [
        "# Нормалізація значень пікселів у діапазоні [0, 1]"
      ],
      "metadata": {
        "id": "PbU78Y2huLB9"
      }
    },
    {
      "cell_type": "code",
      "source": [
        "train_images = train_images / 255.0\n",
        "test_images = test_images / 255.0"
      ],
      "metadata": {
        "id": "CZt3AG0MuJ10"
      },
      "execution_count": 3,
      "outputs": []
    },
    {
      "cell_type": "markdown",
      "source": [
        "# Розширення розмірності зображень для врахування каналів кольору"
      ],
      "metadata": {
        "id": "QcDMZvXJuPtS"
      }
    },
    {
      "cell_type": "code",
      "source": [
        "train_images = np.expand_dims(train_images, axis=-1)\n",
        "test_images = np.expand_dims(test_images, axis=-1)"
      ],
      "metadata": {
        "id": "mjjZfcEPuS8X"
      },
      "execution_count": 4,
      "outputs": []
    },
    {
      "cell_type": "markdown",
      "source": [
        "# Будуємо модель"
      ],
      "metadata": {
        "id": "_EDL95xKucsJ"
      }
    },
    {
      "cell_type": "code",
      "source": [
        "model = Sequential()\n",
        "\n",
        "model.add(Conv2D(32, (3, 3), activation='relu', input_shape=(28, 28, 1)))\n",
        "model.add(MaxPooling2D((2, 2)))\n",
        "model.add(Conv2D(64, (3, 3), activation='relu'))\n",
        "model.add(MaxPooling2D((2, 2)))\n",
        "model.add(Conv2D(128, (3, 3), activation='relu'))\n",
        "model.add(Flatten())\n",
        "model.add(Dense(256, activation='relu'))\n",
        "model.add(Dropout(0.5))\n",
        "model.add(Dense(128, activation='relu'))\n",
        "model.add(Dropout(0.5))\n",
        "model.add(Dense(10, activation='softmax'))"
      ],
      "metadata": {
        "id": "BqA4swVQukDs"
      },
      "execution_count": 5,
      "outputs": []
    },
    {
      "cell_type": "markdown",
      "source": [
        "# Компіляція моделі"
      ],
      "metadata": {
        "id": "fTljydwqu1Y4"
      }
    },
    {
      "cell_type": "code",
      "source": [
        "optimizer = Adam(learning_rate=0.001)\n",
        "\n",
        "model.compile(optimizer=optimizer,\n",
        "              loss='sparse_categorical_crossentropy',\n",
        "              metrics=['accuracy'])"
      ],
      "metadata": {
        "id": "CzKOtwWju5GI"
      },
      "execution_count": 10,
      "outputs": []
    },
    {
      "cell_type": "markdown",
      "source": [
        "# Аугментація даних"
      ],
      "metadata": {
        "id": "GpZJS7MC0t7O"
      }
    },
    {
      "cell_type": "code",
      "source": [
        "datagen = ImageDataGenerator(\n",
        "    rotation_range=10,\n",
        "    width_shift_range=0.1,\n",
        "    height_shift_range=0.1,\n",
        "    zoom_range=0.1,\n",
        ")"
      ],
      "metadata": {
        "id": "Kt5MP73I0weL"
      },
      "execution_count": 11,
      "outputs": []
    },
    {
      "cell_type": "markdown",
      "source": [
        "# Навчання моделі"
      ],
      "metadata": {
        "id": "QayHJ_cmvAqa"
      }
    },
    {
      "cell_type": "code",
      "source": [
        "batch_size = 256\n",
        "epochs = 30\n",
        "\n",
        "history = model.fit(train_images, train_labels,\n",
        "          batch_size=batch_size,\n",
        "          epochs=epochs,\n",
        "          verbose=1,\n",
        "          validation_data=(test_images, test_labels))"
      ],
      "metadata": {
        "colab": {
          "base_uri": "https://localhost:8080/"
        },
        "id": "JFHw-pwtvEM8",
        "outputId": "a8a2f8e4-6391-4b48-b856-93523a5fe6b5"
      },
      "execution_count": 12,
      "outputs": [
        {
          "output_type": "stream",
          "name": "stdout",
          "text": [
            "Epoch 1/30\n",
            "235/235 [==============================] - 39s 165ms/step - loss: 0.8600 - accuracy: 0.6805 - val_loss: 0.4952 - val_accuracy: 0.8080\n",
            "Epoch 2/30\n",
            "235/235 [==============================] - 38s 162ms/step - loss: 0.4946 - accuracy: 0.8206 - val_loss: 0.3914 - val_accuracy: 0.8559\n",
            "Epoch 3/30\n",
            "235/235 [==============================] - 38s 160ms/step - loss: 0.4058 - accuracy: 0.8564 - val_loss: 0.3619 - val_accuracy: 0.8654\n",
            "Epoch 4/30\n",
            "235/235 [==============================] - 38s 162ms/step - loss: 0.3575 - accuracy: 0.8743 - val_loss: 0.3119 - val_accuracy: 0.8886\n",
            "Epoch 5/30\n",
            "235/235 [==============================] - 38s 163ms/step - loss: 0.3249 - accuracy: 0.8856 - val_loss: 0.3168 - val_accuracy: 0.8849\n",
            "Epoch 6/30\n",
            "235/235 [==============================] - 38s 161ms/step - loss: 0.3015 - accuracy: 0.8943 - val_loss: 0.2911 - val_accuracy: 0.8955\n",
            "Epoch 7/30\n",
            "235/235 [==============================] - 38s 163ms/step - loss: 0.2841 - accuracy: 0.8998 - val_loss: 0.2784 - val_accuracy: 0.8997\n",
            "Epoch 8/30\n",
            "235/235 [==============================] - 38s 161ms/step - loss: 0.2636 - accuracy: 0.9063 - val_loss: 0.2756 - val_accuracy: 0.9023\n",
            "Epoch 9/30\n",
            "235/235 [==============================] - 38s 162ms/step - loss: 0.2501 - accuracy: 0.9116 - val_loss: 0.2749 - val_accuracy: 0.9056\n",
            "Epoch 10/30\n",
            "235/235 [==============================] - 38s 161ms/step - loss: 0.2353 - accuracy: 0.9161 - val_loss: 0.2747 - val_accuracy: 0.9008\n",
            "Epoch 11/30\n",
            "235/235 [==============================] - 38s 160ms/step - loss: 0.2240 - accuracy: 0.9200 - val_loss: 0.2625 - val_accuracy: 0.9064\n",
            "Epoch 12/30\n",
            "235/235 [==============================] - 38s 160ms/step - loss: 0.2120 - accuracy: 0.9237 - val_loss: 0.2624 - val_accuracy: 0.9104\n",
            "Epoch 13/30\n",
            "235/235 [==============================] - 38s 162ms/step - loss: 0.1990 - accuracy: 0.9282 - val_loss: 0.2605 - val_accuracy: 0.9117\n",
            "Epoch 14/30\n",
            "235/235 [==============================] - 39s 164ms/step - loss: 0.1903 - accuracy: 0.9319 - val_loss: 0.2718 - val_accuracy: 0.9073\n",
            "Epoch 15/30\n",
            "235/235 [==============================] - 38s 162ms/step - loss: 0.1795 - accuracy: 0.9356 - val_loss: 0.2615 - val_accuracy: 0.9116\n",
            "Epoch 16/30\n",
            "235/235 [==============================] - 38s 161ms/step - loss: 0.1689 - accuracy: 0.9390 - val_loss: 0.2550 - val_accuracy: 0.9163\n",
            "Epoch 17/30\n",
            "235/235 [==============================] - 38s 162ms/step - loss: 0.1629 - accuracy: 0.9415 - val_loss: 0.2633 - val_accuracy: 0.9147\n",
            "Epoch 18/30\n",
            "235/235 [==============================] - 38s 162ms/step - loss: 0.1520 - accuracy: 0.9448 - val_loss: 0.2596 - val_accuracy: 0.9158\n",
            "Epoch 19/30\n",
            "235/235 [==============================] - 38s 161ms/step - loss: 0.1436 - accuracy: 0.9480 - val_loss: 0.2883 - val_accuracy: 0.9123\n",
            "Epoch 20/30\n",
            "235/235 [==============================] - 39s 164ms/step - loss: 0.1389 - accuracy: 0.9496 - val_loss: 0.2734 - val_accuracy: 0.9173\n",
            "Epoch 21/30\n",
            "235/235 [==============================] - 39s 166ms/step - loss: 0.1334 - accuracy: 0.9513 - val_loss: 0.2970 - val_accuracy: 0.9119\n",
            "Epoch 22/30\n",
            "235/235 [==============================] - 38s 162ms/step - loss: 0.1268 - accuracy: 0.9539 - val_loss: 0.2952 - val_accuracy: 0.9120\n",
            "Epoch 23/30\n",
            "235/235 [==============================] - 38s 161ms/step - loss: 0.1207 - accuracy: 0.9559 - val_loss: 0.2956 - val_accuracy: 0.9179\n",
            "Epoch 24/30\n",
            "235/235 [==============================] - 38s 161ms/step - loss: 0.1122 - accuracy: 0.9593 - val_loss: 0.3010 - val_accuracy: 0.9107\n",
            "Epoch 25/30\n",
            "235/235 [==============================] - 39s 166ms/step - loss: 0.1084 - accuracy: 0.9604 - val_loss: 0.3074 - val_accuracy: 0.9169\n",
            "Epoch 26/30\n",
            "235/235 [==============================] - 39s 166ms/step - loss: 0.1033 - accuracy: 0.9619 - val_loss: 0.3095 - val_accuracy: 0.9149\n",
            "Epoch 27/30\n",
            "235/235 [==============================] - 38s 160ms/step - loss: 0.0998 - accuracy: 0.9637 - val_loss: 0.3070 - val_accuracy: 0.9134\n",
            "Epoch 28/30\n",
            "235/235 [==============================] - 38s 161ms/step - loss: 0.0948 - accuracy: 0.9650 - val_loss: 0.3379 - val_accuracy: 0.9148\n",
            "Epoch 29/30\n",
            "235/235 [==============================] - 38s 161ms/step - loss: 0.0873 - accuracy: 0.9682 - val_loss: 0.3489 - val_accuracy: 0.9137\n",
            "Epoch 30/30\n",
            "235/235 [==============================] - 38s 160ms/step - loss: 0.0874 - accuracy: 0.9688 - val_loss: 0.3513 - val_accuracy: 0.9163\n"
          ]
        }
      ]
    },
    {
      "cell_type": "markdown",
      "source": [
        "# Оцінка точності моделі"
      ],
      "metadata": {
        "id": "RMWC9aopvVUH"
      }
    },
    {
      "cell_type": "code",
      "source": [
        "test_loss, test_acc = model.evaluate(test_images, test_labels)\n",
        "print('Точність на тестових даних:', test_acc)\n"
      ],
      "metadata": {
        "colab": {
          "base_uri": "https://localhost:8080/"
        },
        "id": "1iHv39EVvadJ",
        "outputId": "1cb446af-9703-4961-ccac-72b24bdab573"
      },
      "execution_count": 13,
      "outputs": [
        {
          "output_type": "stream",
          "name": "stdout",
          "text": [
            "313/313 [==============================] - 2s 7ms/step - loss: 0.3513 - accuracy: 0.9163\n",
            "Точність на тестових даних: 0.9162999987602234\n"
          ]
        }
      ]
    }
  ]
}