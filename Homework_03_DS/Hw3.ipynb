{
  "nbformat": 4,
  "nbformat_minor": 0,
  "metadata": {
    "colab": {
      "provenance": []
    },
    "kernelspec": {
      "name": "python3",
      "display_name": "Python 3"
    },
    "language_info": {
      "name": "python"
    }
  },
  "cells": [
    {
      "cell_type": "markdown",
      "source": [
        "# Імпорти"
      ],
      "metadata": {
        "id": "n6XHsg6otqO_"
      }
    },
    {
      "cell_type": "code",
      "source": [
        "import numpy as np\n",
        "import pandas as pd\n",
        "import matplotlib.pyplot as plt"
      ],
      "metadata": {
        "id": "USXMWY9GtxEX"
      },
      "execution_count": 275,
      "outputs": []
    },
    {
      "cell_type": "markdown",
      "source": [
        "# Напишіть функцію гіпотези лінійної регресії у векторному вигляді"
      ],
      "metadata": {
        "id": "9RuE2ICVt0Lm"
      }
    },
    {
      "cell_type": "code",
      "source": [
        "def hypothesis(X, w):\n",
        "    \"\"\"\n",
        "    Обчислює значення функції гіпотези для заданої вибірки та вектора ваг.\n",
        "    \n",
        "    Args:\n",
        "    X (np.ndarray): Матриця ознак розмірності (m, n+1), де m - кількість прикладів у вибірці,\n",
        "                    n - кількість ознак.\n",
        "    w (np.ndarray): Вектор ваг розмірності (n+1, 1).\n",
        "    \n",
        "    Returns:\n",
        "    np.ndarray: Вектор передбачень розмірності (m, 1).\n",
        "    \"\"\"\n",
        "    return X @ w"
      ],
      "metadata": {
        "id": "2OYU648xt7IH"
      },
      "execution_count": 276,
      "outputs": []
    },
    {
      "cell_type": "markdown",
      "source": [
        "# Створіть функцію для обчислення функції втрат у векторному вигляді"
      ],
      "metadata": {
        "id": "Xf_AOblaygvD"
      }
    },
    {
      "cell_type": "code",
      "source": [
        "\n",
        "def loss_function(X, y, w):\n",
        "    \"\"\"\n",
        "    Обчислює значення функції втрат для заданої вибірки та вектора ваг.\n",
        "    \n",
        "    Args:\n",
        "    X (np.ndarray): Матриця ознак розмірності (m, n+1), де m - кількість прикладів у вибірці,\n",
        "                    n - кількість ознак.\n",
        "    y (np.ndarray): Вектор правильних відповідей розмірності (m, ).\n",
        "    w (np.ndarray): Вектор ваг розмірності (n+1, 1).\n",
        "    \n",
        "    Returns:\n",
        "    float: Значення функції втрат.\n",
        "    \"\"\"\n",
        "    m = X.shape[0]\n",
        "    return ((hypothesis(X, w) - y)**2).sum() / (2 * m)"
      ],
      "metadata": {
        "id": "x8mm2YtuyhPL"
      },
      "execution_count": 277,
      "outputs": []
    },
    {
      "cell_type": "markdown",
      "source": [
        "# Реалізуйте один крок градієнтного спуску"
      ],
      "metadata": {
        "id": "TQl8XlWdzmBZ"
      }
    },
    {
      "cell_type": "code",
      "source": [
        "def gradient_descent_step(w, grad, learning_rate):\n",
        "    \"\"\"\n",
        "    Обчислює новий вектор ваг на основі останнього вектора ваг та градієнта,\n",
        "    за допомогою кроку градієнтного спуску з заданою швидкістю навчання.\n",
        "    \n",
        "    Args:\n",
        "    w (np.ndarray): Вектор ваг розмірності (n, 1).\n",
        "    grad (np.ndarray): Вектор градієнту розмірності (n, 1).\n",
        "    learning_rate (float): Швидкість навчання.\n",
        "    \n",
        "    Returns:\n",
        "    np.ndarray: Новий вектор ваг розмірності (n, 1).\n",
        "    \"\"\"\n",
        "    return w - learning_rate * grad.reshape(w.shape)"
      ],
      "metadata": {
        "id": "CWsciIMLzp0T"
      },
      "execution_count": 278,
      "outputs": []
    },
    {
      "cell_type": "markdown",
      "source": [
        "*Функція граієнту*"
      ],
      "metadata": {
        "id": "fc8N9LD95Pjz"
      }
    },
    {
      "cell_type": "code",
      "source": [
        "def gradient(X, y, w):\n",
        "    \"\"\"\n",
        "    Обчислення градієнту функції втрат за лінійної регресії.\n",
        "\n",
        "    Args:\n",
        "    X (np.ndarray): Матриця розмірності (m, n+1), де m - кількість прикладів, n - кількість ознак.\n",
        "    y (np.ndarray): Вектор відповідей розмірності (m, 1).\n",
        "    w (np.ndarray): Вектор вагів розмірності (n+1, 1).\n",
        "\n",
        "    Returns:\n",
        "    np.ndarray: Градієнт функції втрат за вагами розмірності (n+1, 1).\n",
        "    \"\"\"\n",
        "    m = X.shape[0]\n",
        "    h = hypothesis(X, w)\n",
        "    grad = X.T @ (h - y)\n",
        "    return grad / m"
      ],
      "metadata": {
        "id": "YwPIkHrr5Ug1"
      },
      "execution_count": 279,
      "outputs": []
    },
    {
      "cell_type": "markdown",
      "source": [
        "# Знайдіть найкращі параметри w для датасету прогнозуючу ціну на будинок залежно від площі, кількості ванних кімнат та кількості спалень"
      ],
      "metadata": {
        "id": "zKahybLd2Z5M"
      }
    },
    {
      "cell_type": "markdown",
      "source": [
        "*Завантаження даних*"
      ],
      "metadata": {
        "id": "tBY-vqnT2_Lj"
      }
    },
    {
      "cell_type": "code",
      "source": [
        "data = pd.read_csv(\"/content/sample_data/Housing.csv\")"
      ],
      "metadata": {
        "id": "_HE3g-HH27Ql"
      },
      "execution_count": 280,
      "outputs": []
    },
    {
      "cell_type": "markdown",
      "source": [
        "*Вибір колонок для використання*"
      ],
      "metadata": {
        "id": "H-3QvkEW3MTt"
      }
    },
    {
      "cell_type": "code",
      "source": [
        "X = data[[\"area\", \"bedrooms\", \"bathrooms\"]].values\n",
        "y = data[\"price\"].values"
      ],
      "metadata": {
        "id": "LIySnrQa3STF"
      },
      "execution_count": 281,
      "outputs": []
    },
    {
      "cell_type": "markdown",
      "source": [
        "*Нормалізація даних*"
      ],
      "metadata": {
        "id": "Oogonkv93XqZ"
      }
    },
    {
      "cell_type": "code",
      "source": [
        "X_mean = X.mean(axis=0)\n",
        "X_std = X.std(axis=0)\n",
        "X_norm = (X - X_mean) / X_std\n",
        "\n",
        "y_mean = y.mean()\n",
        "y_std = y.std()\n",
        "y_norm = (y - y_mean) / y_std"
      ],
      "metadata": {
        "id": "geTG2sZ12j_y"
      },
      "execution_count": 282,
      "outputs": []
    },
    {
      "cell_type": "markdown",
      "source": [
        "*Початкові значення вагів*"
      ],
      "metadata": {
        "id": "B20qKnKB3qK2"
      }
    },
    {
      "cell_type": "code",
      "source": [
        "m = X_norm.shape[0]\n",
        "\n",
        "# Додати стовпець з одиницями до матриці X_norm\n",
        "X_norm = np.hstack((np.ones((m, 1)), X_norm))\n",
        "\n",
        "n = X_norm.shape[1] - 1\n",
        "\n",
        "w = np.zeros((n+1, 1))"
      ],
      "metadata": {
        "id": "1UiiKnqK3wud"
      },
      "execution_count": 283,
      "outputs": []
    },
    {
      "cell_type": "markdown",
      "source": [
        "*Гіперпараметри*"
      ],
      "metadata": {
        "id": "fWUL1DIg4WZ7"
      }
    },
    {
      "cell_type": "code",
      "source": [
        "learning_rate = 0.01\n",
        "num_iterations = 1000"
      ],
      "metadata": {
        "id": "hDfjduuB4awI"
      },
      "execution_count": 284,
      "outputs": []
    },
    {
      "cell_type": "markdown",
      "source": [
        "*Градієнтний спуск*"
      ],
      "metadata": {
        "id": "ATek4pnh4eh4"
      }
    },
    {
      "cell_type": "code",
      "source": [
        "best_loss = float('inf')\n",
        "best_weights = None\n",
        "loss_history = []\n",
        "\n",
        "for i in range(num_iterations):\n",
        "    # Обчислення градієнту\n",
        "    grad = gradient(X_norm, y_norm, w)\n",
        "    \n",
        "    # Оновлення вагів\n",
        "    w = w - learning_rate * grad\n",
        "    \n",
        "    # Обчислення функції втрат\n",
        "    loss = loss_function(X_norm, y_norm, w)\n",
        "    loss_history.append(loss)\n",
        "    \n",
        "    # Зберігання кращих параметрів\n",
        "    if loss < best_loss:\n",
        "        best_loss = loss\n",
        "        best_weights = w\n",
        "    \n",
        "    # Вивід функції втрат на кожній ітерації\n",
        "    if i % 100 == 0:\n",
        "      print(f\"iteration {i+1}: loss = {loss}\")\n",
        "print(f\"Best weights: {best_weights}\")\n",
        "print(f\"Best loss: {best_loss}\")"
      ],
      "metadata": {
        "colab": {
          "base_uri": "https://localhost:8080/"
        },
        "id": "alrNCw984gk5",
        "outputId": "e7cfc025-566e-46fc-a5b4-d15d2d953a24"
      },
      "execution_count": 285,
      "outputs": [
        {
          "output_type": "stream",
          "name": "stdout",
          "text": [
            "iteration 1: loss = 267.0772499999999\n",
            "iteration 101: loss = 35.782923116958614\n",
            "iteration 201: loss = 4.7941844046775675\n",
            "iteration 301: loss = 0.6423232677478123\n",
            "iteration 401: loss = 0.08605826256655523\n",
            "iteration 501: loss = 0.01153005803750818\n",
            "iteration 601: loss = 0.0015447934269586998\n",
            "iteration 701: loss = 0.00020697092106663508\n",
            "iteration 801: loss = 2.772989670955375e-05\n",
            "iteration 901: loss = 3.715242544986117e-06\n",
            "Best weights: [[ 4.56616799e+00  4.00431117e+00  4.00431117e+00 ... -1.61425706e+00\n",
            "  -1.61425706e+00 -1.61425706e+00]\n",
            " [-8.71211869e-17 -5.34804744e-17 -5.34804744e-17 ...  2.17877926e-17\n",
            "   2.17877926e-17  2.17877926e-17]\n",
            " [-1.07785754e-16 -9.24201146e-17 -9.24201146e-17 ...  2.71896261e-17\n",
            "   2.71896261e-17  2.71896261e-17]\n",
            " [ 8.20849186e-17  6.49331188e-17  6.49331188e-17 ... -2.96840311e-17\n",
            "  -2.96840311e-17 -2.96840311e-17]]\n",
            "Best loss: 5.078736743143338e-07\n"
          ]
        }
      ]
    },
    {
      "cell_type": "markdown",
      "source": [
        "# Візуалізація результатів"
      ],
      "metadata": {
        "id": "pE-MkNKRP9r6"
      }
    },
    {
      "cell_type": "code",
      "source": [
        "plt.plot(loss_history)\n",
        "plt.title('Функція втрат')\n",
        "plt.xlabel('Ітерація')\n",
        "plt.ylabel('Значення')\n",
        "plt.show()"
      ],
      "metadata": {
        "colab": {
          "base_uri": "https://localhost:8080/",
          "height": 472
        },
        "id": "mOhsEz-ZQFnR",
        "outputId": "c0da68a6-040c-42ea-b658-ff502b378171"
      },
      "execution_count": 286,
      "outputs": [
        {
          "output_type": "display_data",
          "data": {
            "text/plain": [
              "<Figure size 640x480 with 1 Axes>"
            ],
            "image/png": "[encoded data removed]"
          },
          "metadata": {}
        }
      ]
    },
    {
      "cell_type": "markdown",
      "source": [
        "# Знайдіть ці ж параметри за допомогою аналітичного рішення"
      ],
      "metadata": {
        "id": "15yB5YCTLg7j"
      }
    },
    {
      "cell_type": "code",
      "source": [
        "# Нормалізація вектора відповідей\n",
        "y_norm = (y - y.mean()) / y.std()\n",
        "\n",
        "# Обчислення аналітичного рішення\n",
        "w_analytical = np.linalg.inv(X_norm.T @ X_norm) @ X_norm.T @ y_norm\n",
        "\n",
        "# Вивід кращих параметрів\n",
        "print(f\"Кращі параметри: {w_analytical.flatten()}\")"
      ],
      "metadata": {
        "colab": {
          "base_uri": "https://localhost:8080/"
        },
        "id": "baguXYueLhuS",
        "outputId": "c1e04575-4c0e-4c4f-e84f-63fb6df01d37"
      },
      "execution_count": 287,
      "outputs": [
        {
          "output_type": "stream",
          "name": "stdout",
          "text": [
            "Кращі параметри: [6.82595372e-16 4.39452085e-01 1.60528660e-01 3.72344423e-01]\n"
          ]
        }
      ]
    },
    {
      "cell_type": "markdown",
      "source": [
        "# Порівняйте отримані результати"
      ],
      "metadata": {
        "id": "Fe72pQicNSwf"
      }
    },
    {
      "cell_type": "code",
      "source": [
        "# Обчислюємо передбачення лінійної регресії, навченої за допомогою градієнтного спуску\n",
        "y_pred = hypothesis(X_norm, w)\n",
        "\n",
        "# Обчислюємо передбачення лінійної регресії, знайденої за допомогою аналітичного рішення\n",
        "y_pred_analytical = hypothesis(X_norm, w_analytical)\n",
        "\n",
        "# Обчислюємо середньоквадратичну помилку для лінійної регресії, навченої за допомогою градієнтного спуску\n",
        "mse = np.mean((y_norm - y_pred)**2)\n",
        "\n",
        "# Обчислюємо середньоквадратичну помилку для лінійної регресії, знайденої за допомогою аналітичного рішення\n",
        "mse_analytical = np.mean((y_norm - y_pred_analytical)**2)\n",
        "\n",
        "print(\"Середньоквадратична помилка для лінійної регресії, навченої за допомогою градієнтного спуску: \", mse)\n",
        "print(\"Середньоквадратична помилка для лінійної регресії, знайденої за допомогою аналітичного рішення: \", mse_analytical)"
      ],
      "metadata": {
        "colab": {
          "base_uri": "https://localhost:8080/"
        },
        "id": "5bwKb04YNW0O",
        "outputId": "8f3f8275-6dea-4eb1-dcb9-c985106c3e24"
      },
      "execution_count": 288,
      "outputs": [
        {
          "output_type": "stream",
          "name": "stdout",
          "text": [
            "Середньоквадратична помилка для лінійної регресії, навченої за допомогою градієнтного спуску:  1.8637566029883806e-09\n",
            "Середньоквадратична помилка для лінійної регресії, знайденої за допомогою аналітичного рішення:  0.5129169332941236\n"
          ]
        }
      ]
    }
  ]
}